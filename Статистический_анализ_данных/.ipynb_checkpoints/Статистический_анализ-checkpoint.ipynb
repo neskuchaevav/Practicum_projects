{
 "cells": [
  {
   "cell_type": "markdown",
   "id": "cca6a453",
   "metadata": {},
   "source": [
    "# Проект: Статистический анализ данных\n",
    "\n",
    "Вы аналитик популярного сервиса аренды самокатов GoFast. Вам передали данные о некоторых пользователях из нескольких городов, а также об их поездках. Проанализируйте данные и проверьте некоторые гипотезы, которые могут помочь бизнесу вырасти.\n",
    "\n",
    "Чтобы совершать поездки по городу, пользователи сервиса GoFast пользуются мобильным приложением. Сервисом можно пользоваться:\n",
    "- без подписки\n",
    "    - абонентская плата отсутствует;\n",
    "    - стоимость одной минуты поездки — 8 рублей;\n",
    "    - стоимость старта (начала поездки) — 50 рублей;\n",
    "- с подпиской Ultra\n",
    "    - абонентская плата — 199 рублей в месяц;\n",
    "    - стоимость одной минуты поездки — 6 рублей;\n",
    "    - стоимость старта — бесплатно."
   ]
  },
  {
   "cell_type": "markdown",
   "id": "9892e3fa",
   "metadata": {},
   "source": [
    "### **Оглавление**\n",
    "<a class=\"anchor\" id=\"chapter0\"></a>\n",
    "* [Описание данных](#chapter0)\n",
    "* [Шаг 1. Загрузка данных](#chapter1)\n",
    "* [Шаг 2. Предобработка данных](#chapter2)\n",
    "* [Шаг 3. Исследовательский анализ данных](#chapter3)\n",
    "    * [3.1 Частота встречаемости городов](#chapter31)\n",
    "    * [3.2 Соотношение пользователей с подпиской и без подписки](#chapter32)\n",
    "    * [3.3 Возраст пользователей](#chapter33)\n",
    "    * [3.4 Расстояние, которое пользователь преодолел за одну поездку](#chapter34)\n",
    "    * [3.5 Продолжительность поездок](#chapter35)\n",
    "* [Шаг 4. Объединение данных](#chapter4)\n",
    "    * [4.1 Объедините данные о пользователях, поездках и подписках в один датафрейм. ](#chapter41)\n",
    "    * [4.2 Создайте ещё два датафрейма из датафрейма, созданного на этапе 4.1](#chapter42)\n",
    "    * [4.3 Визуализируйте информацию о расстоянии и времени поездок для пользователей обеих категорий.](#chapter43)\n",
    "* [Шаг 5. Подсчёт выручки](#chapter5)\n",
    "* [Шаг 6. Проверка гипотез](#chapter6)\n",
    "    * [6.1 Важно понять, тратят ли пользователи с подпиской больше времени на поездки? ](#chapter61)\n",
    "    * [6.2 Расстояние одной поездки в 3130 метров — оптимальное с точки зрения износа самоката.](#chapter62)\n",
    "    * [6.3 Проверьте гипотезу о том, будет ли помесячная выручка от пользователей с подпиской по месяцам выше, чем выручка от пользователей без подписки. ](#chapter63)\n",
    "    * [6.4 Представьте такую ситуацию: техническая команда сервиса обновила сервера, с которыми взаимодействует мобильное приложение.](#chapter64)\n",
    "* [Вывод](#chapter7)"
   ]
  },
  {
   "cell_type": "markdown",
   "id": "69cb3c78",
   "metadata": {},
   "source": [
    "## Описание данных\n",
    "<a class=\"anchor\" id=\"chapter0\"></a>\n",
    "\n",
    "В основных данных есть информация о пользователях, их поездках и подписках.\n",
    "\n",
    "**Пользователи — users_go.csv**\n",
    "\n",
    "- `user_id` —\tуникальный идентификатор пользователя\n",
    "- `name` —\tимя пользователя\n",
    "- `age` —\tвозраст\n",
    "- `city` —\tгород\n",
    "- `subscription_type` —\tтип подписки (free, ultra)\n",
    "\n",
    "**Поездки — rides_go.csv**\n",
    "\n",
    "- `user_id` —\tуникальный идентификатор пользователя\n",
    "- `distance` —\tрасстояние, которое пользователь проехал в текущей сессии (в метрах)\n",
    "- `duration` —\tпродолжительность сессии (в минутах) — время с того момента, как пользователь нажал кнопку «Начать поездку» до момента, как он нажал кнопку «Завершить поездку»\n",
    "- `date` —\tдата совершения поездки\n",
    "\n",
    "**Подписки — subscriptions_go.csv**\n",
    "\n",
    "- `subscription_type` —\tтип подписки\n",
    "- `minute_price` —\tстоимость одной минуты поездки по данной подписке\n",
    "- `start_ride_price` —\tстоимость начала поездки\n",
    "- `subscription_fee` —\tстоимость ежемесячного платежа"
   ]
  },
  {
   "cell_type": "code",
   "execution_count": 52,
   "id": "5865dc07",
   "metadata": {},
   "outputs": [],
   "source": [
    "from scipy import stats as st\n",
    "import numpy as np\n",
    "import re\n",
    "import pandas as pd\n",
    "import matplotlib.pyplot as plt\n",
    "import seaborn as sns\n",
    "sns.set(style=\"darkgrid\")\n",
    "sns.set (font_scale=1.1)\n",
    "#sns.set (font_scale=1)\n",
    "\n",
    "import warnings\n",
    "warnings.filterwarnings('ignore')\n",
    "%matplotlib inline\n",
    "from IPython.display import Image\n",
    "\n",
    "from IPython.display import display\n",
    "\n",
    "# фреймворк ICE \n",
    "pd.set_option('display.max_colwidth', 500)\n",
    "\n",
    "## general options\n",
    "pd.set_option('display.max_columns',25)\n",
    "pd.set_option('display.max_rows',62)\n",
    "#pd.set_option(\"precision\", 3)\n",
    "\n",
    "## for text columns\n",
    "#pd.set_option('display.max_colwidth',500)"
   ]
  },
  {
   "cell_type": "markdown",
   "id": "7e8964b9",
   "metadata": {},
   "source": [
    "## Шаг 1. Загрузка данных\n",
    "<a class=\"anchor\" id=\"chapter1\"></a>"
   ]
  },
  {
   "cell_type": "code",
   "execution_count": 2,
   "id": "fec5f14e",
   "metadata": {},
   "outputs": [],
   "source": [
    "try:\n",
    "    rides_go = pd.read_csv('/datasets/rides_go.csv', sep=',')\n",
    "    subscriptions_go = pd.read_csv('/datasets/subscriptions_go.csv', sep=',')\n",
    "    users_go = pd.read_csv('/datasets/users_go.csv', sep=',')\n",
    "except:\n",
    "    rides_go = pd.read_csv('C:/Users/nesku/Проекты_учебные/Статистика/rides_go.csv', sep=',')\n",
    "    subscriptions_go = pd.read_csv('C:/Users/nesku/Проекты_учебные/Статистика/subscriptions_go.csv', sep=',') \n",
    "    users_go = pd.read_csv('C:/Users/nesku/Проекты_учебные/Статистика/users_go.csv', sep=',')"
   ]
  },
  {
   "cell_type": "code",
   "execution_count": 3,
   "id": "d0aa795e",
   "metadata": {},
   "outputs": [
    {
     "data": {
      "text/html": [
       "<div>\n",
       "<style scoped>\n",
       "    .dataframe tbody tr th:only-of-type {\n",
       "        vertical-align: middle;\n",
       "    }\n",
       "\n",
       "    .dataframe tbody tr th {\n",
       "        vertical-align: top;\n",
       "    }\n",
       "\n",
       "    .dataframe thead th {\n",
       "        text-align: right;\n",
       "    }\n",
       "</style>\n",
       "<table border=\"1\" class=\"dataframe\">\n",
       "  <thead>\n",
       "    <tr style=\"text-align: right;\">\n",
       "      <th></th>\n",
       "      <th>user_id</th>\n",
       "      <th>distance</th>\n",
       "      <th>duration</th>\n",
       "      <th>date</th>\n",
       "    </tr>\n",
       "  </thead>\n",
       "  <tbody>\n",
       "    <tr>\n",
       "      <th>0</th>\n",
       "      <td>1</td>\n",
       "      <td>4409.919140</td>\n",
       "      <td>25.599769</td>\n",
       "      <td>2021-01-01</td>\n",
       "    </tr>\n",
       "    <tr>\n",
       "      <th>1</th>\n",
       "      <td>1</td>\n",
       "      <td>2617.592153</td>\n",
       "      <td>15.816871</td>\n",
       "      <td>2021-01-18</td>\n",
       "    </tr>\n",
       "    <tr>\n",
       "      <th>2</th>\n",
       "      <td>1</td>\n",
       "      <td>754.159807</td>\n",
       "      <td>6.232113</td>\n",
       "      <td>2021-04-20</td>\n",
       "    </tr>\n",
       "    <tr>\n",
       "      <th>3</th>\n",
       "      <td>1</td>\n",
       "      <td>2694.783254</td>\n",
       "      <td>18.511000</td>\n",
       "      <td>2021-08-11</td>\n",
       "    </tr>\n",
       "    <tr>\n",
       "      <th>4</th>\n",
       "      <td>1</td>\n",
       "      <td>4028.687306</td>\n",
       "      <td>26.265803</td>\n",
       "      <td>2021-08-28</td>\n",
       "    </tr>\n",
       "  </tbody>\n",
       "</table>\n",
       "</div>"
      ],
      "text/plain": [
       "   user_id     distance   duration        date\n",
       "0        1  4409.919140  25.599769  2021-01-01\n",
       "1        1  2617.592153  15.816871  2021-01-18\n",
       "2        1   754.159807   6.232113  2021-04-20\n",
       "3        1  2694.783254  18.511000  2021-08-11\n",
       "4        1  4028.687306  26.265803  2021-08-28"
      ]
     },
     "execution_count": 3,
     "metadata": {},
     "output_type": "execute_result"
    }
   ],
   "source": [
    "rides_go.head(5)"
   ]
  },
  {
   "cell_type": "code",
   "execution_count": 4,
   "id": "87ac57a3",
   "metadata": {},
   "outputs": [
    {
     "data": {
      "text/html": [
       "<div>\n",
       "<style scoped>\n",
       "    .dataframe tbody tr th:only-of-type {\n",
       "        vertical-align: middle;\n",
       "    }\n",
       "\n",
       "    .dataframe tbody tr th {\n",
       "        vertical-align: top;\n",
       "    }\n",
       "\n",
       "    .dataframe thead th {\n",
       "        text-align: right;\n",
       "    }\n",
       "</style>\n",
       "<table border=\"1\" class=\"dataframe\">\n",
       "  <thead>\n",
       "    <tr style=\"text-align: right;\">\n",
       "      <th></th>\n",
       "      <th>subscription_type</th>\n",
       "      <th>minute_price</th>\n",
       "      <th>start_ride_price</th>\n",
       "      <th>subscription_fee</th>\n",
       "    </tr>\n",
       "  </thead>\n",
       "  <tbody>\n",
       "    <tr>\n",
       "      <th>0</th>\n",
       "      <td>free</td>\n",
       "      <td>8</td>\n",
       "      <td>50</td>\n",
       "      <td>0</td>\n",
       "    </tr>\n",
       "    <tr>\n",
       "      <th>1</th>\n",
       "      <td>ultra</td>\n",
       "      <td>6</td>\n",
       "      <td>0</td>\n",
       "      <td>199</td>\n",
       "    </tr>\n",
       "  </tbody>\n",
       "</table>\n",
       "</div>"
      ],
      "text/plain": [
       "  subscription_type  minute_price  start_ride_price  subscription_fee\n",
       "0              free             8                50                 0\n",
       "1             ultra             6                 0               199"
      ]
     },
     "execution_count": 4,
     "metadata": {},
     "output_type": "execute_result"
    }
   ],
   "source": [
    "subscriptions_go"
   ]
  },
  {
   "cell_type": "code",
   "execution_count": 5,
   "id": "a1b9a535",
   "metadata": {},
   "outputs": [
    {
     "data": {
      "text/html": [
       "<div>\n",
       "<style scoped>\n",
       "    .dataframe tbody tr th:only-of-type {\n",
       "        vertical-align: middle;\n",
       "    }\n",
       "\n",
       "    .dataframe tbody tr th {\n",
       "        vertical-align: top;\n",
       "    }\n",
       "\n",
       "    .dataframe thead th {\n",
       "        text-align: right;\n",
       "    }\n",
       "</style>\n",
       "<table border=\"1\" class=\"dataframe\">\n",
       "  <thead>\n",
       "    <tr style=\"text-align: right;\">\n",
       "      <th></th>\n",
       "      <th>user_id</th>\n",
       "      <th>name</th>\n",
       "      <th>age</th>\n",
       "      <th>city</th>\n",
       "      <th>subscription_type</th>\n",
       "    </tr>\n",
       "  </thead>\n",
       "  <tbody>\n",
       "    <tr>\n",
       "      <th>0</th>\n",
       "      <td>1</td>\n",
       "      <td>Кира</td>\n",
       "      <td>22</td>\n",
       "      <td>Тюмень</td>\n",
       "      <td>ultra</td>\n",
       "    </tr>\n",
       "    <tr>\n",
       "      <th>1</th>\n",
       "      <td>2</td>\n",
       "      <td>Станислав</td>\n",
       "      <td>31</td>\n",
       "      <td>Омск</td>\n",
       "      <td>ultra</td>\n",
       "    </tr>\n",
       "    <tr>\n",
       "      <th>2</th>\n",
       "      <td>3</td>\n",
       "      <td>Алексей</td>\n",
       "      <td>20</td>\n",
       "      <td>Москва</td>\n",
       "      <td>ultra</td>\n",
       "    </tr>\n",
       "    <tr>\n",
       "      <th>3</th>\n",
       "      <td>4</td>\n",
       "      <td>Константин</td>\n",
       "      <td>26</td>\n",
       "      <td>Ростов-на-Дону</td>\n",
       "      <td>ultra</td>\n",
       "    </tr>\n",
       "    <tr>\n",
       "      <th>4</th>\n",
       "      <td>5</td>\n",
       "      <td>Адель</td>\n",
       "      <td>28</td>\n",
       "      <td>Омск</td>\n",
       "      <td>ultra</td>\n",
       "    </tr>\n",
       "  </tbody>\n",
       "</table>\n",
       "</div>"
      ],
      "text/plain": [
       "   user_id        name  age            city subscription_type\n",
       "0        1        Кира   22          Тюмень             ultra\n",
       "1        2   Станислав   31            Омск             ultra\n",
       "2        3     Алексей   20          Москва             ultra\n",
       "3        4  Константин   26  Ростов-на-Дону             ultra\n",
       "4        5       Адель   28            Омск             ultra"
      ]
     },
     "execution_count": 5,
     "metadata": {},
     "output_type": "execute_result"
    }
   ],
   "source": [
    "users_go.head(5)"
   ]
  },
  {
   "cell_type": "markdown",
   "id": "1860005d",
   "metadata": {},
   "source": [
    "**Предварительный вывод**\n",
    "    \n",
    "Каких то аномальных или нестандартных отклонений в данных на данном этапе не обнаружено. Далее проверим данные на пропуски, дубликаты и неверный формат."
   ]
  },
  {
   "cell_type": "markdown",
   "id": "96ffe811",
   "metadata": {},
   "source": [
    "## Шаг 2. Предобработка данных\n",
    "<a class=\"anchor\" id=\"chapter2\"></a>\n",
    "\n",
    "[*в начало*](#chapter0)"
   ]
  },
  {
   "cell_type": "code",
   "execution_count": 6,
   "id": "299add7e",
   "metadata": {},
   "outputs": [],
   "source": [
    "#rides_go.info()\n",
    "#users_go.info()"
   ]
  },
  {
   "cell_type": "markdown",
   "id": "a6e211eb",
   "metadata": {},
   "source": [
    "В строках обоих датафреймов пропуски отсутствуют"
   ]
  },
  {
   "cell_type": "code",
   "execution_count": 7,
   "id": "bbb994df",
   "metadata": {},
   "outputs": [],
   "source": [
    "# date — дата совершения поездки, форматируем в дату без времени + создаем столбец с месяцем\n",
    "#2018-12-12T12:00:00.000Z\n",
    "rides_go['date'] = pd.to_datetime(rides_go['date'], format ='%Y-%m-%d').dt.date"
   ]
  },
  {
   "cell_type": "code",
   "execution_count": 8,
   "id": "abc49113",
   "metadata": {},
   "outputs": [],
   "source": [
    "# создадим доп.столбец с месяцем\n",
    "rides_go['month'] = pd.DatetimeIndex(rides_go['date']).month"
   ]
  },
  {
   "cell_type": "code",
   "execution_count": 9,
   "id": "4787106f",
   "metadata": {},
   "outputs": [
    {
     "data": {
      "text/plain": [
       "31"
      ]
     },
     "execution_count": 9,
     "metadata": {},
     "output_type": "execute_result"
    }
   ],
   "source": [
    "#rides_go.duplicated().sum() # полных дублирующихся записей нет\n",
    "users_go.duplicated().sum() # полных дублирующихся записей 31"
   ]
  },
  {
   "cell_type": "code",
   "execution_count": 10,
   "id": "9102d0c8",
   "metadata": {
    "scrolled": true
   },
   "outputs": [
    {
     "data": {
      "text/html": [
       "<div>\n",
       "<style scoped>\n",
       "    .dataframe tbody tr th:only-of-type {\n",
       "        vertical-align: middle;\n",
       "    }\n",
       "\n",
       "    .dataframe tbody tr th {\n",
       "        vertical-align: top;\n",
       "    }\n",
       "\n",
       "    .dataframe thead th {\n",
       "        text-align: right;\n",
       "    }\n",
       "</style>\n",
       "<table border=\"1\" class=\"dataframe\">\n",
       "  <thead>\n",
       "    <tr style=\"text-align: right;\">\n",
       "      <th></th>\n",
       "      <th>user_id</th>\n",
       "      <th>name</th>\n",
       "      <th>age</th>\n",
       "      <th>city</th>\n",
       "      <th>subscription_type</th>\n",
       "    </tr>\n",
       "  </thead>\n",
       "  <tbody>\n",
       "    <tr>\n",
       "      <th>1535</th>\n",
       "      <td>16</td>\n",
       "      <td>Амалия</td>\n",
       "      <td>27</td>\n",
       "      <td>Краснодар</td>\n",
       "      <td>ultra</td>\n",
       "    </tr>\n",
       "    <tr>\n",
       "      <th>15</th>\n",
       "      <td>16</td>\n",
       "      <td>Амалия</td>\n",
       "      <td>27</td>\n",
       "      <td>Краснодар</td>\n",
       "      <td>ultra</td>\n",
       "    </tr>\n",
       "    <tr>\n",
       "      <th>42</th>\n",
       "      <td>43</td>\n",
       "      <td>Стефания</td>\n",
       "      <td>22</td>\n",
       "      <td>Омск</td>\n",
       "      <td>ultra</td>\n",
       "    </tr>\n",
       "    <tr>\n",
       "      <th>1539</th>\n",
       "      <td>43</td>\n",
       "      <td>Стефания</td>\n",
       "      <td>22</td>\n",
       "      <td>Омск</td>\n",
       "      <td>ultra</td>\n",
       "    </tr>\n",
       "    <tr>\n",
       "      <th>1563</th>\n",
       "      <td>47</td>\n",
       "      <td>Юрий</td>\n",
       "      <td>28</td>\n",
       "      <td>Тюмень</td>\n",
       "      <td>ultra</td>\n",
       "    </tr>\n",
       "    <tr>\n",
       "      <th>46</th>\n",
       "      <td>47</td>\n",
       "      <td>Юрий</td>\n",
       "      <td>28</td>\n",
       "      <td>Тюмень</td>\n",
       "      <td>ultra</td>\n",
       "    </tr>\n",
       "    <tr>\n",
       "      <th>71</th>\n",
       "      <td>72</td>\n",
       "      <td>Никита</td>\n",
       "      <td>25</td>\n",
       "      <td>Москва</td>\n",
       "      <td>ultra</td>\n",
       "    </tr>\n",
       "    <tr>\n",
       "      <th>1555</th>\n",
       "      <td>72</td>\n",
       "      <td>Никита</td>\n",
       "      <td>25</td>\n",
       "      <td>Москва</td>\n",
       "      <td>ultra</td>\n",
       "    </tr>\n",
       "    <tr>\n",
       "      <th>107</th>\n",
       "      <td>108</td>\n",
       "      <td>Влада</td>\n",
       "      <td>29</td>\n",
       "      <td>Тюмень</td>\n",
       "      <td>ultra</td>\n",
       "    </tr>\n",
       "    <tr>\n",
       "      <th>1549</th>\n",
       "      <td>108</td>\n",
       "      <td>Влада</td>\n",
       "      <td>29</td>\n",
       "      <td>Тюмень</td>\n",
       "      <td>ultra</td>\n",
       "    </tr>\n",
       "    <tr>\n",
       "      <th>120</th>\n",
       "      <td>121</td>\n",
       "      <td>Алина</td>\n",
       "      <td>25</td>\n",
       "      <td>Пятигорск</td>\n",
       "      <td>ultra</td>\n",
       "    </tr>\n",
       "    <tr>\n",
       "      <th>1553</th>\n",
       "      <td>121</td>\n",
       "      <td>Алина</td>\n",
       "      <td>25</td>\n",
       "      <td>Пятигорск</td>\n",
       "      <td>ultra</td>\n",
       "    </tr>\n",
       "    <tr>\n",
       "      <th>1540</th>\n",
       "      <td>127</td>\n",
       "      <td>Павел</td>\n",
       "      <td>25</td>\n",
       "      <td>Пятигорск</td>\n",
       "      <td>ultra</td>\n",
       "    </tr>\n",
       "    <tr>\n",
       "      <th>126</th>\n",
       "      <td>127</td>\n",
       "      <td>Павел</td>\n",
       "      <td>25</td>\n",
       "      <td>Пятигорск</td>\n",
       "      <td>ultra</td>\n",
       "    </tr>\n",
       "    <tr>\n",
       "      <th>1548</th>\n",
       "      <td>136</td>\n",
       "      <td>Марсель</td>\n",
       "      <td>25</td>\n",
       "      <td>Тюмень</td>\n",
       "      <td>ultra</td>\n",
       "    </tr>\n",
       "    <tr>\n",
       "      <th>135</th>\n",
       "      <td>136</td>\n",
       "      <td>Марсель</td>\n",
       "      <td>25</td>\n",
       "      <td>Тюмень</td>\n",
       "      <td>ultra</td>\n",
       "    </tr>\n",
       "    <tr>\n",
       "      <th>152</th>\n",
       "      <td>153</td>\n",
       "      <td>Герман</td>\n",
       "      <td>23</td>\n",
       "      <td>Москва</td>\n",
       "      <td>ultra</td>\n",
       "    </tr>\n",
       "    <tr>\n",
       "      <th>1543</th>\n",
       "      <td>153</td>\n",
       "      <td>Герман</td>\n",
       "      <td>23</td>\n",
       "      <td>Москва</td>\n",
       "      <td>ultra</td>\n",
       "    </tr>\n",
       "    <tr>\n",
       "      <th>203</th>\n",
       "      <td>204</td>\n",
       "      <td>Руслан</td>\n",
       "      <td>30</td>\n",
       "      <td>Пятигорск</td>\n",
       "      <td>ultra</td>\n",
       "    </tr>\n",
       "    <tr>\n",
       "      <th>1542</th>\n",
       "      <td>204</td>\n",
       "      <td>Руслан</td>\n",
       "      <td>30</td>\n",
       "      <td>Пятигорск</td>\n",
       "      <td>ultra</td>\n",
       "    </tr>\n",
       "    <tr>\n",
       "      <th>208</th>\n",
       "      <td>209</td>\n",
       "      <td>Андрей</td>\n",
       "      <td>23</td>\n",
       "      <td>Омск</td>\n",
       "      <td>ultra</td>\n",
       "    </tr>\n",
       "    <tr>\n",
       "      <th>1559</th>\n",
       "      <td>209</td>\n",
       "      <td>Андрей</td>\n",
       "      <td>23</td>\n",
       "      <td>Омск</td>\n",
       "      <td>ultra</td>\n",
       "    </tr>\n",
       "    <tr>\n",
       "      <th>1534</th>\n",
       "      <td>293</td>\n",
       "      <td>Агата</td>\n",
       "      <td>26</td>\n",
       "      <td>Краснодар</td>\n",
       "      <td>ultra</td>\n",
       "    </tr>\n",
       "    <tr>\n",
       "      <th>292</th>\n",
       "      <td>293</td>\n",
       "      <td>Агата</td>\n",
       "      <td>26</td>\n",
       "      <td>Краснодар</td>\n",
       "      <td>ultra</td>\n",
       "    </tr>\n",
       "    <tr>\n",
       "      <th>1552</th>\n",
       "      <td>297</td>\n",
       "      <td>Егор</td>\n",
       "      <td>33</td>\n",
       "      <td>Пятигорск</td>\n",
       "      <td>ultra</td>\n",
       "    </tr>\n",
       "    <tr>\n",
       "      <th>296</th>\n",
       "      <td>297</td>\n",
       "      <td>Егор</td>\n",
       "      <td>33</td>\n",
       "      <td>Пятигорск</td>\n",
       "      <td>ultra</td>\n",
       "    </tr>\n",
       "    <tr>\n",
       "      <th>306</th>\n",
       "      <td>307</td>\n",
       "      <td>Ясмина</td>\n",
       "      <td>19</td>\n",
       "      <td>Краснодар</td>\n",
       "      <td>ultra</td>\n",
       "    </tr>\n",
       "    <tr>\n",
       "      <th>1562</th>\n",
       "      <td>307</td>\n",
       "      <td>Ясмина</td>\n",
       "      <td>19</td>\n",
       "      <td>Краснодар</td>\n",
       "      <td>ultra</td>\n",
       "    </tr>\n",
       "    <tr>\n",
       "      <th>402</th>\n",
       "      <td>403</td>\n",
       "      <td>Полина</td>\n",
       "      <td>19</td>\n",
       "      <td>Сочи</td>\n",
       "      <td>ultra</td>\n",
       "    </tr>\n",
       "    <tr>\n",
       "      <th>1537</th>\n",
       "      <td>403</td>\n",
       "      <td>Полина</td>\n",
       "      <td>19</td>\n",
       "      <td>Сочи</td>\n",
       "      <td>ultra</td>\n",
       "    </tr>\n",
       "    <tr>\n",
       "      <th>421</th>\n",
       "      <td>422</td>\n",
       "      <td>Кирилл</td>\n",
       "      <td>27</td>\n",
       "      <td>Сочи</td>\n",
       "      <td>ultra</td>\n",
       "    </tr>\n",
       "    <tr>\n",
       "      <th>1556</th>\n",
       "      <td>422</td>\n",
       "      <td>Кирилл</td>\n",
       "      <td>27</td>\n",
       "      <td>Сочи</td>\n",
       "      <td>ultra</td>\n",
       "    </tr>\n",
       "    <tr>\n",
       "      <th>1557</th>\n",
       "      <td>611</td>\n",
       "      <td>Владимир</td>\n",
       "      <td>28</td>\n",
       "      <td>Омск</td>\n",
       "      <td>ultra</td>\n",
       "    </tr>\n",
       "    <tr>\n",
       "      <th>610</th>\n",
       "      <td>611</td>\n",
       "      <td>Владимир</td>\n",
       "      <td>28</td>\n",
       "      <td>Омск</td>\n",
       "      <td>ultra</td>\n",
       "    </tr>\n",
       "    <tr>\n",
       "      <th>1547</th>\n",
       "      <td>635</td>\n",
       "      <td>Герман</td>\n",
       "      <td>21</td>\n",
       "      <td>Москва</td>\n",
       "      <td>ultra</td>\n",
       "    </tr>\n",
       "    <tr>\n",
       "      <th>634</th>\n",
       "      <td>635</td>\n",
       "      <td>Герман</td>\n",
       "      <td>21</td>\n",
       "      <td>Москва</td>\n",
       "      <td>ultra</td>\n",
       "    </tr>\n",
       "    <tr>\n",
       "      <th>658</th>\n",
       "      <td>659</td>\n",
       "      <td>Злата</td>\n",
       "      <td>27</td>\n",
       "      <td>Ростов-на-Дону</td>\n",
       "      <td>ultra</td>\n",
       "    </tr>\n",
       "    <tr>\n",
       "      <th>1541</th>\n",
       "      <td>659</td>\n",
       "      <td>Злата</td>\n",
       "      <td>27</td>\n",
       "      <td>Ростов-на-Дону</td>\n",
       "      <td>ultra</td>\n",
       "    </tr>\n",
       "    <tr>\n",
       "      <th>1551</th>\n",
       "      <td>666</td>\n",
       "      <td>Зарина</td>\n",
       "      <td>29</td>\n",
       "      <td>Москва</td>\n",
       "      <td>ultra</td>\n",
       "    </tr>\n",
       "    <tr>\n",
       "      <th>665</th>\n",
       "      <td>666</td>\n",
       "      <td>Зарина</td>\n",
       "      <td>29</td>\n",
       "      <td>Москва</td>\n",
       "      <td>ultra</td>\n",
       "    </tr>\n",
       "    <tr>\n",
       "      <th>736</th>\n",
       "      <td>737</td>\n",
       "      <td>Мелания</td>\n",
       "      <td>27</td>\n",
       "      <td>Ростов-на-Дону</td>\n",
       "      <td>free</td>\n",
       "    </tr>\n",
       "    <tr>\n",
       "      <th>1550</th>\n",
       "      <td>737</td>\n",
       "      <td>Мелания</td>\n",
       "      <td>27</td>\n",
       "      <td>Ростов-на-Дону</td>\n",
       "      <td>free</td>\n",
       "    </tr>\n",
       "    <tr>\n",
       "      <th>806</th>\n",
       "      <td>807</td>\n",
       "      <td>Александр</td>\n",
       "      <td>28</td>\n",
       "      <td>Екатеринбург</td>\n",
       "      <td>free</td>\n",
       "    </tr>\n",
       "    <tr>\n",
       "      <th>1545</th>\n",
       "      <td>807</td>\n",
       "      <td>Александр</td>\n",
       "      <td>28</td>\n",
       "      <td>Екатеринбург</td>\n",
       "      <td>free</td>\n",
       "    </tr>\n",
       "    <tr>\n",
       "      <th>1561</th>\n",
       "      <td>809</td>\n",
       "      <td>Юрий</td>\n",
       "      <td>26</td>\n",
       "      <td>Сочи</td>\n",
       "      <td>free</td>\n",
       "    </tr>\n",
       "    <tr>\n",
       "      <th>808</th>\n",
       "      <td>809</td>\n",
       "      <td>Юрий</td>\n",
       "      <td>26</td>\n",
       "      <td>Сочи</td>\n",
       "      <td>free</td>\n",
       "    </tr>\n",
       "    <tr>\n",
       "      <th>828</th>\n",
       "      <td>829</td>\n",
       "      <td>Федор</td>\n",
       "      <td>29</td>\n",
       "      <td>Пятигорск</td>\n",
       "      <td>free</td>\n",
       "    </tr>\n",
       "    <tr>\n",
       "      <th>1560</th>\n",
       "      <td>829</td>\n",
       "      <td>Федор</td>\n",
       "      <td>29</td>\n",
       "      <td>Пятигорск</td>\n",
       "      <td>free</td>\n",
       "    </tr>\n",
       "    <tr>\n",
       "      <th>907</th>\n",
       "      <td>908</td>\n",
       "      <td>Рустам</td>\n",
       "      <td>30</td>\n",
       "      <td>Тюмень</td>\n",
       "      <td>free</td>\n",
       "    </tr>\n",
       "    <tr>\n",
       "      <th>1538</th>\n",
       "      <td>908</td>\n",
       "      <td>Рустам</td>\n",
       "      <td>30</td>\n",
       "      <td>Тюмень</td>\n",
       "      <td>free</td>\n",
       "    </tr>\n",
       "    <tr>\n",
       "      <th>908</th>\n",
       "      <td>909</td>\n",
       "      <td>Константин</td>\n",
       "      <td>20</td>\n",
       "      <td>Екатеринбург</td>\n",
       "      <td>free</td>\n",
       "    </tr>\n",
       "    <tr>\n",
       "      <th>1536</th>\n",
       "      <td>909</td>\n",
       "      <td>Константин</td>\n",
       "      <td>20</td>\n",
       "      <td>Екатеринбург</td>\n",
       "      <td>free</td>\n",
       "    </tr>\n",
       "    <tr>\n",
       "      <th>1546</th>\n",
       "      <td>924</td>\n",
       "      <td>Мария</td>\n",
       "      <td>23</td>\n",
       "      <td>Пятигорск</td>\n",
       "      <td>free</td>\n",
       "    </tr>\n",
       "    <tr>\n",
       "      <th>923</th>\n",
       "      <td>924</td>\n",
       "      <td>Мария</td>\n",
       "      <td>23</td>\n",
       "      <td>Пятигорск</td>\n",
       "      <td>free</td>\n",
       "    </tr>\n",
       "    <tr>\n",
       "      <th>1564</th>\n",
       "      <td>1045</td>\n",
       "      <td>Артемий</td>\n",
       "      <td>28</td>\n",
       "      <td>Ростов-на-Дону</td>\n",
       "      <td>free</td>\n",
       "    </tr>\n",
       "    <tr>\n",
       "      <th>1044</th>\n",
       "      <td>1045</td>\n",
       "      <td>Артемий</td>\n",
       "      <td>28</td>\n",
       "      <td>Ростов-на-Дону</td>\n",
       "      <td>free</td>\n",
       "    </tr>\n",
       "    <tr>\n",
       "      <th>1197</th>\n",
       "      <td>1198</td>\n",
       "      <td>Демид</td>\n",
       "      <td>29</td>\n",
       "      <td>Ростов-на-Дону</td>\n",
       "      <td>free</td>\n",
       "    </tr>\n",
       "    <tr>\n",
       "      <th>1554</th>\n",
       "      <td>1198</td>\n",
       "      <td>Демид</td>\n",
       "      <td>29</td>\n",
       "      <td>Ростов-на-Дону</td>\n",
       "      <td>free</td>\n",
       "    </tr>\n",
       "    <tr>\n",
       "      <th>1558</th>\n",
       "      <td>1237</td>\n",
       "      <td>Евгения</td>\n",
       "      <td>23</td>\n",
       "      <td>Тюмень</td>\n",
       "      <td>free</td>\n",
       "    </tr>\n",
       "    <tr>\n",
       "      <th>1236</th>\n",
       "      <td>1237</td>\n",
       "      <td>Евгения</td>\n",
       "      <td>23</td>\n",
       "      <td>Тюмень</td>\n",
       "      <td>free</td>\n",
       "    </tr>\n",
       "    <tr>\n",
       "      <th>1544</th>\n",
       "      <td>1245</td>\n",
       "      <td>Регина</td>\n",
       "      <td>27</td>\n",
       "      <td>Пятигорск</td>\n",
       "      <td>free</td>\n",
       "    </tr>\n",
       "    <tr>\n",
       "      <th>1244</th>\n",
       "      <td>1245</td>\n",
       "      <td>Регина</td>\n",
       "      <td>27</td>\n",
       "      <td>Пятигорск</td>\n",
       "      <td>free</td>\n",
       "    </tr>\n",
       "  </tbody>\n",
       "</table>\n",
       "</div>"
      ],
      "text/plain": [
       "      user_id        name  age            city subscription_type\n",
       "1535       16      Амалия   27       Краснодар             ultra\n",
       "15         16      Амалия   27       Краснодар             ultra\n",
       "42         43    Стефания   22            Омск             ultra\n",
       "1539       43    Стефания   22            Омск             ultra\n",
       "1563       47        Юрий   28          Тюмень             ultra\n",
       "46         47        Юрий   28          Тюмень             ultra\n",
       "71         72      Никита   25          Москва             ultra\n",
       "1555       72      Никита   25          Москва             ultra\n",
       "107       108       Влада   29          Тюмень             ultra\n",
       "1549      108       Влада   29          Тюмень             ultra\n",
       "120       121       Алина   25       Пятигорск             ultra\n",
       "1553      121       Алина   25       Пятигорск             ultra\n",
       "1540      127       Павел   25       Пятигорск             ultra\n",
       "126       127       Павел   25       Пятигорск             ultra\n",
       "1548      136     Марсель   25          Тюмень             ultra\n",
       "135       136     Марсель   25          Тюмень             ultra\n",
       "152       153      Герман   23          Москва             ultra\n",
       "1543      153      Герман   23          Москва             ultra\n",
       "203       204      Руслан   30       Пятигорск             ultra\n",
       "1542      204      Руслан   30       Пятигорск             ultra\n",
       "208       209      Андрей   23            Омск             ultra\n",
       "1559      209      Андрей   23            Омск             ultra\n",
       "1534      293       Агата   26       Краснодар             ultra\n",
       "292       293       Агата   26       Краснодар             ultra\n",
       "1552      297        Егор   33       Пятигорск             ultra\n",
       "296       297        Егор   33       Пятигорск             ultra\n",
       "306       307      Ясмина   19       Краснодар             ultra\n",
       "1562      307      Ясмина   19       Краснодар             ultra\n",
       "402       403      Полина   19            Сочи             ultra\n",
       "1537      403      Полина   19            Сочи             ultra\n",
       "421       422      Кирилл   27            Сочи             ultra\n",
       "1556      422      Кирилл   27            Сочи             ultra\n",
       "1557      611    Владимир   28            Омск             ultra\n",
       "610       611    Владимир   28            Омск             ultra\n",
       "1547      635      Герман   21          Москва             ultra\n",
       "634       635      Герман   21          Москва             ultra\n",
       "658       659       Злата   27  Ростов-на-Дону             ultra\n",
       "1541      659       Злата   27  Ростов-на-Дону             ultra\n",
       "1551      666      Зарина   29          Москва             ultra\n",
       "665       666      Зарина   29          Москва             ultra\n",
       "736       737     Мелания   27  Ростов-на-Дону              free\n",
       "1550      737     Мелания   27  Ростов-на-Дону              free\n",
       "806       807   Александр   28    Екатеринбург              free\n",
       "1545      807   Александр   28    Екатеринбург              free\n",
       "1561      809        Юрий   26            Сочи              free\n",
       "808       809        Юрий   26            Сочи              free\n",
       "828       829       Федор   29       Пятигорск              free\n",
       "1560      829       Федор   29       Пятигорск              free\n",
       "907       908      Рустам   30          Тюмень              free\n",
       "1538      908      Рустам   30          Тюмень              free\n",
       "908       909  Константин   20    Екатеринбург              free\n",
       "1536      909  Константин   20    Екатеринбург              free\n",
       "1546      924       Мария   23       Пятигорск              free\n",
       "923       924       Мария   23       Пятигорск              free\n",
       "1564     1045     Артемий   28  Ростов-на-Дону              free\n",
       "1044     1045     Артемий   28  Ростов-на-Дону              free\n",
       "1197     1198       Демид   29  Ростов-на-Дону              free\n",
       "1554     1198       Демид   29  Ростов-на-Дону              free\n",
       "1558     1237     Евгения   23          Тюмень              free\n",
       "1236     1237     Евгения   23          Тюмень              free\n",
       "1544     1245      Регина   27       Пятигорск              free\n",
       "1244     1245      Регина   27       Пятигорск              free"
      ]
     },
     "execution_count": 10,
     "metadata": {},
     "output_type": "execute_result"
    }
   ],
   "source": [
    "# отобразим дубликаты\n",
    "users_go.sort_values(by=['user_id'], ascending = True)[users_go.duplicated(keep = False)] "
   ]
  },
  {
   "cell_type": "code",
   "execution_count": 11,
   "id": "93f31cb4",
   "metadata": {},
   "outputs": [],
   "source": [
    "# удалим дубликаты\n",
    "users_go = users_go.drop_duplicates()"
   ]
  },
  {
   "cell_type": "markdown",
   "id": "0f02f497",
   "metadata": {},
   "source": [
    "Из датафрейма users_go удалены 31 дублирующихся строк"
   ]
  },
  {
   "cell_type": "markdown",
   "id": "c65f2663",
   "metadata": {},
   "source": [
    "Провели первичный анализ и познакомились с данными. Приступим к исследовательскому анализу."
   ]
  },
  {
   "cell_type": "code",
   "execution_count": 12,
   "id": "616d2caa",
   "metadata": {},
   "outputs": [
    {
     "data": {
      "text/plain": [
       "datetime.date(2021, 1, 1)"
      ]
     },
     "execution_count": 12,
     "metadata": {},
     "output_type": "execute_result"
    }
   ],
   "source": [
    "#rides_go['date'].describe()\n",
    "rides_go['date'].min()"
   ]
  },
  {
   "cell_type": "code",
   "execution_count": 13,
   "id": "862e1e8c",
   "metadata": {},
   "outputs": [
    {
     "data": {
      "text/plain": [
       "datetime.date(2021, 12, 30)"
      ]
     },
     "execution_count": 13,
     "metadata": {},
     "output_type": "execute_result"
    }
   ],
   "source": [
    "rides_go['date'].max()"
   ]
  },
  {
   "cell_type": "code",
   "execution_count": 14,
   "id": "02206848",
   "metadata": {},
   "outputs": [
    {
     "data": {
      "text/plain": [
       "count    18068.000000\n",
       "mean        17.805011\n",
       "std          6.091051\n",
       "min          0.500000\n",
       "25%         13.597563\n",
       "50%         17.678395\n",
       "75%         21.724800\n",
       "max         40.823963\n",
       "Name: duration, dtype: float64"
      ]
     },
     "execution_count": 14,
     "metadata": {},
     "output_type": "execute_result"
    }
   ],
   "source": [
    "rides_go['duration'].describe()"
   ]
  },
  {
   "cell_type": "markdown",
   "id": "6e4a6ddb",
   "metadata": {},
   "source": [
    "Данные в пределах одного года и аномальные значения в данных не обнаружены. Сессии длиной в 0.5 минуты - вполне допускаю, что пользователь мог на 30 секунд включить сервис или 30 секунд им воспользоваться."
   ]
  },
  {
   "cell_type": "markdown",
   "id": "aad13e91",
   "metadata": {},
   "source": [
    "## Шаг 3. Исследовательский анализ данных\n",
    "<a class=\"anchor\" id=\"chapter3\"></a>\n",
    "\n",
    "Опишем и визуализируем общую информацию о пользователях и поездках:\n",
    "1. частота встречаемости городов;\n",
    "1. соотношение пользователей с подпиской и без подписки;\n",
    "1. возраст пользователей;\n",
    "1. расстояние, которое пользователь преодолел за одну поездку;\n",
    "1. продолжительность поездок."
   ]
  },
  {
   "cell_type": "markdown",
   "id": "8341e6e8",
   "metadata": {},
   "source": [
    "### 3.1 Частота встречаемости городов\n",
    "<a class=\"anchor\" id=\"chapter31\"></a>\n",
    "**Пользователи — users_go.csv**\n",
    "- `city` —\tгород\n",
    "\n",
    "[*в начало*](#chapter0)"
   ]
  },
  {
   "cell_type": "code",
   "execution_count": 15,
   "id": "f0d6201d",
   "metadata": {},
   "outputs": [
    {
     "data": {
      "text/plain": [
       "city\n",
       "Пятигорск         219\n",
       "Екатеринбург      204\n",
       "Ростов-на-Дону    198\n",
       "Краснодар         193\n",
       "Сочи              189\n",
       "Омск              183\n",
       "Тюмень            180\n",
       "Москва            168\n",
       "Name: count, dtype: int64"
      ]
     },
     "execution_count": 15,
     "metadata": {},
     "output_type": "execute_result"
    }
   ],
   "source": [
    "users_go['city'].value_counts()"
   ]
  },
  {
   "cell_type": "code",
   "execution_count": 16,
   "id": "988347d2",
   "metadata": {},
   "outputs": [
    {
     "data": {
      "image/png": "[encoded data removed]",
      "text/plain": [
       "<Figure size 2000x500 with 1 Axes>"
      ]
     },
     "metadata": {},
     "output_type": "display_data"
    }
   ],
   "source": [
    "users_go[['city']].value_counts().reset_index().plot(x='city', kind='bar', figsize=(20, 5));\n",
    "plt.xticks(rotation=45, horizontalalignment='right', fontsize=15)\n",
    "plt.yticks(rotation=0, horizontalalignment='right', fontsize=15)\n",
    "plt.title('Частота встречаемости городов', fontdict={'size':20})\n",
    "plt.legend(['count']);"
   ]
  },
  {
   "cell_type": "markdown",
   "id": "91cdd717",
   "metadata": {},
   "source": [
    "**Диаграмма с сортировкой по убыванию частоты встречаемости городов**"
   ]
  },
  {
   "cell_type": "markdown",
   "id": "34346ef4",
   "metadata": {},
   "source": [
    "По числу клиентов состав приблизительно одинаковый, колеблется в пределах от 219 в Пятигорске до 168 из Москвы."
   ]
  },
  {
   "cell_type": "markdown",
   "id": "96dd54db",
   "metadata": {},
   "source": [
    "### 3.2 Соотношение пользователей с подпиской и без подписки\n",
    "**Пользователи — users_go.csv**\n",
    "- `subscription_type` —\tтип подписки (free, ultra)\n",
    "\n",
    "<a class=\"anchor\" id=\"chapter32\"></a>\n",
    "\n",
    "[*в начало*](#chapter0)"
   ]
  },
  {
   "cell_type": "code",
   "execution_count": 17,
   "id": "65d87ef5",
   "metadata": {},
   "outputs": [
    {
     "data": {
      "text/html": [
       "<div>\n",
       "<style scoped>\n",
       "    .dataframe tbody tr th:only-of-type {\n",
       "        vertical-align: middle;\n",
       "    }\n",
       "\n",
       "    .dataframe tbody tr th {\n",
       "        vertical-align: top;\n",
       "    }\n",
       "\n",
       "    .dataframe thead th {\n",
       "        text-align: right;\n",
       "    }\n",
       "</style>\n",
       "<table border=\"1\" class=\"dataframe\">\n",
       "  <thead>\n",
       "    <tr style=\"text-align: right;\">\n",
       "      <th></th>\n",
       "      <th>subscription_type</th>\n",
       "      <th>count</th>\n",
       "    </tr>\n",
       "  </thead>\n",
       "  <tbody>\n",
       "    <tr>\n",
       "      <th>0</th>\n",
       "      <td>free</td>\n",
       "      <td>835</td>\n",
       "    </tr>\n",
       "    <tr>\n",
       "      <th>1</th>\n",
       "      <td>ultra</td>\n",
       "      <td>699</td>\n",
       "    </tr>\n",
       "  </tbody>\n",
       "</table>\n",
       "</div>"
      ],
      "text/plain": [
       "  subscription_type  count\n",
       "0              free    835\n",
       "1             ultra    699"
      ]
     },
     "execution_count": 17,
     "metadata": {},
     "output_type": "execute_result"
    }
   ],
   "source": [
    "table = users_go[['subscription_type']].value_counts().reset_index()\n",
    "table.columns = ['subscription_type', 'count']\n",
    "table"
   ]
  },
  {
   "cell_type": "code",
   "execution_count": 19,
   "id": "f780288f",
   "metadata": {},
   "outputs": [
    {
     "data": {
      "image/png": "[encoded data removed]",
      "text/plain": [
       "<Figure size 640x480 with 1 Axes>"
      ]
     },
     "metadata": {},
     "output_type": "display_data"
    }
   ],
   "source": [
    "#https://matplotlib.org/stable/api/_as_gen/matplotlib.pyplot.pie.html\n",
    "\n",
    "table = users_go[['subscription_type']].value_counts(normalize=True).reset_index()\n",
    "table.columns = ['subscription_type', 'percentage']\n",
    "table.plot(kind='pie', y='percentage', autopct='%1.0f%%',radius=1.5, labels=['free','ultra']);#, pctdistance=0.5);\n",
    "#plt.title('соотношение пользователей с подпиской и без подписки', fontdict={'size':20})\n",
    "#plt.legend(['free','ultra']);"
   ]
  },
  {
   "cell_type": "markdown",
   "id": "6f7d6be7",
   "metadata": {},
   "source": [
    "**Круговая диаграмма соотношения пользователей с подпиской и без**"
   ]
  },
  {
   "cell_type": "markdown",
   "id": "27b17249",
   "metadata": {},
   "source": [
    "По численному соотношению в выборке, пользователей приблизительно одинаковое количество"
   ]
  },
  {
   "cell_type": "markdown",
   "id": "ae95f106",
   "metadata": {},
   "source": [
    "### 3.3 Возраст пользователей\n",
    "**Пользователи — users_go.csv**\n",
    "- `age` —\tвозраст\n",
    "\n",
    "<a class=\"anchor\" id=\"chapter33\"></a>\n",
    "\n",
    "[*в начало*](#chapter0)"
   ]
  },
  {
   "cell_type": "code",
   "execution_count": 20,
   "id": "ffce95f9",
   "metadata": {},
   "outputs": [
    {
     "data": {
      "text/html": [
       "<div>\n",
       "<style scoped>\n",
       "    .dataframe tbody tr th:only-of-type {\n",
       "        vertical-align: middle;\n",
       "    }\n",
       "\n",
       "    .dataframe tbody tr th {\n",
       "        vertical-align: top;\n",
       "    }\n",
       "\n",
       "    .dataframe thead th {\n",
       "        text-align: right;\n",
       "    }\n",
       "</style>\n",
       "<table border=\"1\" class=\"dataframe\">\n",
       "  <thead>\n",
       "    <tr style=\"text-align: right;\">\n",
       "      <th></th>\n",
       "      <th>age</th>\n",
       "      <th>count</th>\n",
       "    </tr>\n",
       "  </thead>\n",
       "  <tbody>\n",
       "    <tr>\n",
       "      <th>0</th>\n",
       "      <td>25</td>\n",
       "      <td>145</td>\n",
       "    </tr>\n",
       "    <tr>\n",
       "      <th>1</th>\n",
       "      <td>24</td>\n",
       "      <td>132</td>\n",
       "    </tr>\n",
       "    <tr>\n",
       "      <th>2</th>\n",
       "      <td>26</td>\n",
       "      <td>131</td>\n",
       "    </tr>\n",
       "    <tr>\n",
       "      <th>3</th>\n",
       "      <td>23</td>\n",
       "      <td>129</td>\n",
       "    </tr>\n",
       "    <tr>\n",
       "      <th>4</th>\n",
       "      <td>27</td>\n",
       "      <td>119</td>\n",
       "    </tr>\n",
       "    <tr>\n",
       "      <th>5</th>\n",
       "      <td>22</td>\n",
       "      <td>119</td>\n",
       "    </tr>\n",
       "    <tr>\n",
       "      <th>6</th>\n",
       "      <td>28</td>\n",
       "      <td>112</td>\n",
       "    </tr>\n",
       "    <tr>\n",
       "      <th>7</th>\n",
       "      <td>21</td>\n",
       "      <td>93</td>\n",
       "    </tr>\n",
       "    <tr>\n",
       "      <th>8</th>\n",
       "      <td>20</td>\n",
       "      <td>71</td>\n",
       "    </tr>\n",
       "    <tr>\n",
       "      <th>9</th>\n",
       "      <td>30</td>\n",
       "      <td>68</td>\n",
       "    </tr>\n",
       "    <tr>\n",
       "      <th>10</th>\n",
       "      <td>29</td>\n",
       "      <td>68</td>\n",
       "    </tr>\n",
       "    <tr>\n",
       "      <th>11</th>\n",
       "      <td>31</td>\n",
       "      <td>48</td>\n",
       "    </tr>\n",
       "    <tr>\n",
       "      <th>12</th>\n",
       "      <td>19</td>\n",
       "      <td>47</td>\n",
       "    </tr>\n",
       "    <tr>\n",
       "      <th>13</th>\n",
       "      <td>18</td>\n",
       "      <td>46</td>\n",
       "    </tr>\n",
       "    <tr>\n",
       "      <th>14</th>\n",
       "      <td>32</td>\n",
       "      <td>41</td>\n",
       "    </tr>\n",
       "    <tr>\n",
       "      <th>15</th>\n",
       "      <td>33</td>\n",
       "      <td>39</td>\n",
       "    </tr>\n",
       "    <tr>\n",
       "      <th>16</th>\n",
       "      <td>17</td>\n",
       "      <td>26</td>\n",
       "    </tr>\n",
       "    <tr>\n",
       "      <th>17</th>\n",
       "      <td>34</td>\n",
       "      <td>19</td>\n",
       "    </tr>\n",
       "    <tr>\n",
       "      <th>18</th>\n",
       "      <td>16</td>\n",
       "      <td>19</td>\n",
       "    </tr>\n",
       "    <tr>\n",
       "      <th>19</th>\n",
       "      <td>35</td>\n",
       "      <td>15</td>\n",
       "    </tr>\n",
       "    <tr>\n",
       "      <th>20</th>\n",
       "      <td>15</td>\n",
       "      <td>13</td>\n",
       "    </tr>\n",
       "    <tr>\n",
       "      <th>21</th>\n",
       "      <td>14</td>\n",
       "      <td>9</td>\n",
       "    </tr>\n",
       "    <tr>\n",
       "      <th>22</th>\n",
       "      <td>13</td>\n",
       "      <td>8</td>\n",
       "    </tr>\n",
       "    <tr>\n",
       "      <th>23</th>\n",
       "      <td>36</td>\n",
       "      <td>6</td>\n",
       "    </tr>\n",
       "    <tr>\n",
       "      <th>24</th>\n",
       "      <td>12</td>\n",
       "      <td>4</td>\n",
       "    </tr>\n",
       "    <tr>\n",
       "      <th>25</th>\n",
       "      <td>38</td>\n",
       "      <td>3</td>\n",
       "    </tr>\n",
       "    <tr>\n",
       "      <th>26</th>\n",
       "      <td>37</td>\n",
       "      <td>2</td>\n",
       "    </tr>\n",
       "    <tr>\n",
       "      <th>27</th>\n",
       "      <td>39</td>\n",
       "      <td>1</td>\n",
       "    </tr>\n",
       "    <tr>\n",
       "      <th>28</th>\n",
       "      <td>43</td>\n",
       "      <td>1</td>\n",
       "    </tr>\n",
       "  </tbody>\n",
       "</table>\n",
       "</div>"
      ],
      "text/plain": [
       "    age  count\n",
       "0    25    145\n",
       "1    24    132\n",
       "2    26    131\n",
       "3    23    129\n",
       "4    27    119\n",
       "5    22    119\n",
       "6    28    112\n",
       "7    21     93\n",
       "8    20     71\n",
       "9    30     68\n",
       "10   29     68\n",
       "11   31     48\n",
       "12   19     47\n",
       "13   18     46\n",
       "14   32     41\n",
       "15   33     39\n",
       "16   17     26\n",
       "17   34     19\n",
       "18   16     19\n",
       "19   35     15\n",
       "20   15     13\n",
       "21   14      9\n",
       "22   13      8\n",
       "23   36      6\n",
       "24   12      4\n",
       "25   38      3\n",
       "26   37      2\n",
       "27   39      1\n",
       "28   43      1"
      ]
     },
     "execution_count": 20,
     "metadata": {},
     "output_type": "execute_result"
    }
   ],
   "source": [
    "table = users_go[['age']].value_counts().reset_index()\n",
    "table.columns = ['age', 'count']\n",
    "table"
   ]
  },
  {
   "cell_type": "code",
   "execution_count": 22,
   "id": "bf784d27",
   "metadata": {},
   "outputs": [
    {
     "data": {
      "image/png": "[encoded data removed]",
      "text/plain": [
       "<Figure size 3000x500 with 1 Axes>"
      ]
     },
     "metadata": {},
     "output_type": "display_data"
    }
   ],
   "source": [
    "f, ax = plt.subplots(figsize=(30, 5))\n",
    "sns.set(font_scale=2)\n",
    "plt.xticks(rotation=0, fontsize=20, fontweight='light') #fontweight='light', rotation_mode=\"anchor\", horizontalalignment='right',\n",
    "plt.yticks(rotation=0, horizontalalignment='right', fontsize=20)\n",
    "plt.title('Возраст пользователей', fontdict={'size':30})\n",
    "sns.barplot(data=table, x=\"age\", y=\"count\")\n",
    "\n",
    "# show the graph\n",
    "plt.show()"
   ]
  },
  {
   "cell_type": "markdown",
   "id": "6880d601",
   "metadata": {},
   "source": [
    "**Диаграмма распределения возраста пользователей**"
   ]
  },
  {
   "cell_type": "markdown",
   "id": "c0e687f7",
   "metadata": {},
   "source": [
    "Возраст клиентов распределен нормально вокруг среднего в 25 лет и колеблется в пределах от 12 до 43. Основная масса клиентов в возрасте от 18 до 33 лет."
   ]
  },
  {
   "cell_type": "markdown",
   "id": "dbfb013d",
   "metadata": {},
   "source": [
    "### 3.4 Расстояние, которое пользователь преодолел за одну поездку\n",
    "\n",
    "**Поездки — rides_go.csv**\n",
    "- `distance` —\tрасстояние, которое пользователь проехал в текущей сессии (в метрах)\n",
    "\n",
    "<a class=\"anchor\" id=\"chapter34\"></a>\n",
    "\n",
    "[*в начало*](#chapter0)"
   ]
  },
  {
   "cell_type": "code",
   "execution_count": 24,
   "id": "6526ff8f",
   "metadata": {},
   "outputs": [
    {
     "data": {
      "text/html": [
       "<div>\n",
       "<style scoped>\n",
       "    .dataframe tbody tr th:only-of-type {\n",
       "        vertical-align: middle;\n",
       "    }\n",
       "\n",
       "    .dataframe tbody tr th {\n",
       "        vertical-align: top;\n",
       "    }\n",
       "\n",
       "    .dataframe thead th {\n",
       "        text-align: right;\n",
       "    }\n",
       "</style>\n",
       "<table border=\"1\" class=\"dataframe\">\n",
       "  <thead>\n",
       "    <tr style=\"text-align: right;\">\n",
       "      <th></th>\n",
       "      <th>distance_km</th>\n",
       "      <th>count</th>\n",
       "    </tr>\n",
       "  </thead>\n",
       "  <tbody>\n",
       "    <tr>\n",
       "      <th>0</th>\n",
       "      <td>3.15</td>\n",
       "      <td>109</td>\n",
       "    </tr>\n",
       "    <tr>\n",
       "      <th>1</th>\n",
       "      <td>3.16</td>\n",
       "      <td>104</td>\n",
       "    </tr>\n",
       "    <tr>\n",
       "      <th>2</th>\n",
       "      <td>3.06</td>\n",
       "      <td>98</td>\n",
       "    </tr>\n",
       "    <tr>\n",
       "      <th>3</th>\n",
       "      <td>3.05</td>\n",
       "      <td>96</td>\n",
       "    </tr>\n",
       "    <tr>\n",
       "      <th>4</th>\n",
       "      <td>3.02</td>\n",
       "      <td>95</td>\n",
       "    </tr>\n",
       "    <tr>\n",
       "      <th>...</th>\n",
       "      <td>...</td>\n",
       "      <td>...</td>\n",
       "    </tr>\n",
       "    <tr>\n",
       "      <th>624</th>\n",
       "      <td>6.07</td>\n",
       "      <td>1</td>\n",
       "    </tr>\n",
       "    <tr>\n",
       "      <th>625</th>\n",
       "      <td>6.08</td>\n",
       "      <td>1</td>\n",
       "    </tr>\n",
       "    <tr>\n",
       "      <th>626</th>\n",
       "      <td>6.10</td>\n",
       "      <td>1</td>\n",
       "    </tr>\n",
       "    <tr>\n",
       "      <th>627</th>\n",
       "      <td>6.12</td>\n",
       "      <td>1</td>\n",
       "    </tr>\n",
       "    <tr>\n",
       "      <th>628</th>\n",
       "      <td>7.21</td>\n",
       "      <td>1</td>\n",
       "    </tr>\n",
       "  </tbody>\n",
       "</table>\n",
       "<p>629 rows × 2 columns</p>\n",
       "</div>"
      ],
      "text/plain": [
       "     distance_km  count\n",
       "0           3.15    109\n",
       "1           3.16    104\n",
       "2           3.06     98\n",
       "3           3.05     96\n",
       "4           3.02     95\n",
       "..           ...    ...\n",
       "624         6.07      1\n",
       "625         6.08      1\n",
       "626         6.10      1\n",
       "627         6.12      1\n",
       "628         7.21      1\n",
       "\n",
       "[629 rows x 2 columns]"
      ]
     },
     "execution_count": 24,
     "metadata": {},
     "output_type": "execute_result"
    }
   ],
   "source": [
    "#rides_go[['distance']].value_counts().reset_index()\n",
    "rides_go['distance_km'] = round((rides_go['distance']/1000),2)#.astype('int')\n",
    "table = rides_go[['distance_km']].value_counts().reset_index()\n",
    "table.columns = ['distance_km', 'count']\n",
    "table"
   ]
  },
  {
   "cell_type": "code",
   "execution_count": 25,
   "id": "3ed51066",
   "metadata": {},
   "outputs": [
    {
     "data": {
      "image/png": "[encoded data removed]",
      "text/plain": [
       "<Figure size 2000x500 with 1 Axes>"
      ]
     },
     "metadata": {},
     "output_type": "display_data"
    }
   ],
   "source": [
    "rides_go['distance_km'].hist(figsize=(20, 5), bins = 100);#, range=(6, 8))\n",
    "plt.title('расстояние, которое пользователь преодолел за одну поездку', loc='center');"
   ]
  },
  {
   "cell_type": "markdown",
   "id": "b3e34edc",
   "metadata": {},
   "source": [
    "#### Вывод"
   ]
  },
  {
   "cell_type": "markdown",
   "id": "fe9c5277",
   "metadata": {},
   "source": [
    "В представленной выборке видно, что часть клиентов могла воспользоваться сервисом для преодоления короткого расстояния, часть на длинное расстояние.\n",
    "Представленную выборку можно поделить на две части, на часть где пользователи пользуются сервисом для преодоления небольшого расстояния в пределах 1км, и на часть где пользователи используют самокаты на длинное расстояние от 2 до 5км."
   ]
  },
  {
   "cell_type": "markdown",
   "id": "e976fb26",
   "metadata": {},
   "source": [
    "### 3.5 Продолжительность поездок\n",
    "**Поездки — rides_go.csv**\n",
    "- `duration` —\tпродолжительность сессии (в минутах) — время с того момента, как пользователь нажал кнопку «Начать поездку» до момента, как он нажал кнопку «Завершить поездку\n",
    "\n",
    "<a class=\"anchor\" id=\"chapter35\"></a>\n",
    "\n",
    "[*в начало*](#chapter0)"
   ]
  },
  {
   "cell_type": "code",
   "execution_count": 26,
   "id": "985a4009",
   "metadata": {},
   "outputs": [
    {
     "data": {
      "text/html": [
       "<div>\n",
       "<style scoped>\n",
       "    .dataframe tbody tr th:only-of-type {\n",
       "        vertical-align: middle;\n",
       "    }\n",
       "\n",
       "    .dataframe tbody tr th {\n",
       "        vertical-align: top;\n",
       "    }\n",
       "\n",
       "    .dataframe thead th {\n",
       "        text-align: right;\n",
       "    }\n",
       "</style>\n",
       "<table border=\"1\" class=\"dataframe\">\n",
       "  <thead>\n",
       "    <tr style=\"text-align: right;\">\n",
       "      <th></th>\n",
       "      <th>duration_m</th>\n",
       "      <th>count</th>\n",
       "    </tr>\n",
       "  </thead>\n",
       "  <tbody>\n",
       "    <tr>\n",
       "      <th>0</th>\n",
       "      <td>18.3</td>\n",
       "      <td>141</td>\n",
       "    </tr>\n",
       "    <tr>\n",
       "      <th>1</th>\n",
       "      <td>17.3</td>\n",
       "      <td>139</td>\n",
       "    </tr>\n",
       "    <tr>\n",
       "      <th>2</th>\n",
       "      <td>16.0</td>\n",
       "      <td>136</td>\n",
       "    </tr>\n",
       "    <tr>\n",
       "      <th>3</th>\n",
       "      <td>20.1</td>\n",
       "      <td>135</td>\n",
       "    </tr>\n",
       "    <tr>\n",
       "      <th>4</th>\n",
       "      <td>18.6</td>\n",
       "      <td>132</td>\n",
       "    </tr>\n",
       "    <tr>\n",
       "      <th>...</th>\n",
       "      <td>...</td>\n",
       "      <td>...</td>\n",
       "    </tr>\n",
       "    <tr>\n",
       "      <th>346</th>\n",
       "      <td>35.4</td>\n",
       "      <td>1</td>\n",
       "    </tr>\n",
       "    <tr>\n",
       "      <th>347</th>\n",
       "      <td>35.3</td>\n",
       "      <td>1</td>\n",
       "    </tr>\n",
       "    <tr>\n",
       "      <th>348</th>\n",
       "      <td>35.1</td>\n",
       "      <td>1</td>\n",
       "    </tr>\n",
       "    <tr>\n",
       "      <th>349</th>\n",
       "      <td>2.1</td>\n",
       "      <td>1</td>\n",
       "    </tr>\n",
       "    <tr>\n",
       "      <th>350</th>\n",
       "      <td>40.8</td>\n",
       "      <td>1</td>\n",
       "    </tr>\n",
       "  </tbody>\n",
       "</table>\n",
       "<p>351 rows × 2 columns</p>\n",
       "</div>"
      ],
      "text/plain": [
       "     duration_m  count\n",
       "0          18.3    141\n",
       "1          17.3    139\n",
       "2          16.0    136\n",
       "3          20.1    135\n",
       "4          18.6    132\n",
       "..          ...    ...\n",
       "346        35.4      1\n",
       "347        35.3      1\n",
       "348        35.1      1\n",
       "349         2.1      1\n",
       "350        40.8      1\n",
       "\n",
       "[351 rows x 2 columns]"
      ]
     },
     "execution_count": 26,
     "metadata": {},
     "output_type": "execute_result"
    }
   ],
   "source": [
    "rides_go['duration_m'] = round(rides_go['duration'],1)#.astype('int')\n",
    "table = rides_go[['duration_m']].value_counts().reset_index()\n",
    "table.columns = ['duration_m', 'count']\n",
    "table"
   ]
  },
  {
   "cell_type": "code",
   "execution_count": 27,
   "id": "5e0184ec",
   "metadata": {},
   "outputs": [
    {
     "data": {
      "image/png": "[encoded data removed]",
      "text/plain": [
       "<Figure size 2000x500 with 1 Axes>"
      ]
     },
     "metadata": {},
     "output_type": "display_data"
    }
   ],
   "source": [
    "rides_go['duration'].hist(figsize=(20, 5), bins = 100);#, range=(6, 8))\n",
    "plt.title('Продолжительность поездок', loc='center');"
   ]
  },
  {
   "cell_type": "code",
   "execution_count": 46,
   "id": "444e5e60",
   "metadata": {},
   "outputs": [],
   "source": [
    "rides_go['duration_m'] =  np.ceil(rides_go['duration']).astype('int')\n",
    "table = rides_go[['duration_m']].value_counts().reset_index()\n",
    "table.columns = ['duration_m', 'count']\n",
    "#table"
   ]
  },
  {
   "cell_type": "code",
   "execution_count": 47,
   "id": "7b745809",
   "metadata": {},
   "outputs": [
    {
     "data": {
      "image/png": "[encoded data removed]",
      "text/plain": [
       "<Figure size 2000x500 with 1 Axes>"
      ]
     },
     "metadata": {},
     "output_type": "display_data"
    }
   ],
   "source": [
    "rides_go['duration_m'].hist(figsize=(20, 5), bins = 100);#, range=(6, 8))\n",
    "plt.title('Продолжительность поездок округленным до минут', loc='center');"
   ]
  },
  {
   "cell_type": "code",
   "execution_count": 49,
   "id": "039a6b0d-fc17-4ef7-80e3-c2b137a9da99",
   "metadata": {},
   "outputs": [
    {
     "data": {
      "text/plain": [
       "count    18068.000000\n",
       "mean        17.805011\n",
       "std          6.091051\n",
       "min          0.500000\n",
       "25%         13.597563\n",
       "50%         17.678395\n",
       "75%         21.724800\n",
       "max         40.823963\n",
       "Name: duration, dtype: float64"
      ]
     },
     "execution_count": 49,
     "metadata": {},
     "output_type": "execute_result"
    }
   ],
   "source": [
    "rides_go['duration'].describe()"
   ]
  },
  {
   "cell_type": "markdown",
   "id": "5d2176ff",
   "metadata": {},
   "source": [
    "Заметно, что часть пользователей пользовалась сервисом менее одно минуты."
   ]
  },
  {
   "cell_type": "markdown",
   "id": "3cc47c63",
   "metadata": {},
   "source": [
    "## 5 Шаг. Объединение данных\n",
    "<a class=\"anchor\" id=\"chapter4\"></a>\n",
    "\n",
    "### 4.1 Объединим данные о пользователях, поездках и подписках в один датафрейм. \n",
    "С помощью метода merge().\n",
    "<a class=\"anchor\" id=\"chapter41\"></a>\n",
    "\n",
    "[*в начало*](#chapter0)"
   ]
  },
  {
   "cell_type": "code",
   "execution_count": 31,
   "id": "95db33e4",
   "metadata": {},
   "outputs": [],
   "source": [
    "#smbio_1=smbio.merge(terminal_sn, how='outer', left_on=['device_num'], right_on=['device_num'])\n",
    "df=rides_go.merge(users_go, how='left', on=['user_id'])"
   ]
  },
  {
   "cell_type": "code",
   "execution_count": 32,
   "id": "554879fc",
   "metadata": {},
   "outputs": [],
   "source": [
    "df=df.merge(subscriptions_go, how='left', on=['subscription_type'])"
   ]
  },
  {
   "cell_type": "code",
   "execution_count": 33,
   "id": "ee03fe0e",
   "metadata": {},
   "outputs": [
    {
     "data": {
      "text/html": [
       "<div>\n",
       "<style scoped>\n",
       "    .dataframe tbody tr th:only-of-type {\n",
       "        vertical-align: middle;\n",
       "    }\n",
       "\n",
       "    .dataframe tbody tr th {\n",
       "        vertical-align: top;\n",
       "    }\n",
       "\n",
       "    .dataframe thead th {\n",
       "        text-align: right;\n",
       "    }\n",
       "</style>\n",
       "<table border=\"1\" class=\"dataframe\">\n",
       "  <thead>\n",
       "    <tr style=\"text-align: right;\">\n",
       "      <th></th>\n",
       "      <th>user_id</th>\n",
       "      <th>distance</th>\n",
       "      <th>duration</th>\n",
       "      <th>date</th>\n",
       "      <th>month</th>\n",
       "      <th>distance_km</th>\n",
       "      <th>duration_m</th>\n",
       "      <th>name</th>\n",
       "      <th>age</th>\n",
       "      <th>city</th>\n",
       "      <th>subscription_type</th>\n",
       "      <th>minute_price</th>\n",
       "      <th>start_ride_price</th>\n",
       "      <th>subscription_fee</th>\n",
       "    </tr>\n",
       "  </thead>\n",
       "  <tbody>\n",
       "    <tr>\n",
       "      <th>11241</th>\n",
       "      <td>1047</td>\n",
       "      <td>2895.636557</td>\n",
       "      <td>14.858637</td>\n",
       "      <td>2021-06-17</td>\n",
       "      <td>6</td>\n",
       "      <td>2.90</td>\n",
       "      <td>15</td>\n",
       "      <td>Дмитрий</td>\n",
       "      <td>23</td>\n",
       "      <td>Сочи</td>\n",
       "      <td>free</td>\n",
       "      <td>8</td>\n",
       "      <td>50</td>\n",
       "      <td>0</td>\n",
       "    </tr>\n",
       "    <tr>\n",
       "      <th>755</th>\n",
       "      <td>83</td>\n",
       "      <td>1589.051469</td>\n",
       "      <td>16.296838</td>\n",
       "      <td>2021-05-17</td>\n",
       "      <td>5</td>\n",
       "      <td>1.59</td>\n",
       "      <td>16</td>\n",
       "      <td>Ксения</td>\n",
       "      <td>23</td>\n",
       "      <td>Омск</td>\n",
       "      <td>ultra</td>\n",
       "      <td>6</td>\n",
       "      <td>0</td>\n",
       "      <td>199</td>\n",
       "    </tr>\n",
       "    <tr>\n",
       "      <th>13589</th>\n",
       "      <td>1216</td>\n",
       "      <td>4236.954022</td>\n",
       "      <td>22.079187</td>\n",
       "      <td>2021-12-27</td>\n",
       "      <td>12</td>\n",
       "      <td>4.24</td>\n",
       "      <td>22</td>\n",
       "      <td>Элина</td>\n",
       "      <td>20</td>\n",
       "      <td>Тюмень</td>\n",
       "      <td>free</td>\n",
       "      <td>8</td>\n",
       "      <td>50</td>\n",
       "      <td>0</td>\n",
       "    </tr>\n",
       "    <tr>\n",
       "      <th>14480</th>\n",
       "      <td>1278</td>\n",
       "      <td>4327.983026</td>\n",
       "      <td>18.983949</td>\n",
       "      <td>2021-07-14</td>\n",
       "      <td>7</td>\n",
       "      <td>4.33</td>\n",
       "      <td>19</td>\n",
       "      <td>Дмитрий</td>\n",
       "      <td>24</td>\n",
       "      <td>Краснодар</td>\n",
       "      <td>free</td>\n",
       "      <td>8</td>\n",
       "      <td>50</td>\n",
       "      <td>0</td>\n",
       "    </tr>\n",
       "    <tr>\n",
       "      <th>5522</th>\n",
       "      <td>588</td>\n",
       "      <td>4455.193637</td>\n",
       "      <td>22.900430</td>\n",
       "      <td>2021-10-08</td>\n",
       "      <td>10</td>\n",
       "      <td>4.46</td>\n",
       "      <td>23</td>\n",
       "      <td>Маргарита</td>\n",
       "      <td>24</td>\n",
       "      <td>Москва</td>\n",
       "      <td>ultra</td>\n",
       "      <td>6</td>\n",
       "      <td>0</td>\n",
       "      <td>199</td>\n",
       "    </tr>\n",
       "  </tbody>\n",
       "</table>\n",
       "</div>"
      ],
      "text/plain": [
       "       user_id     distance   duration        date  month  distance_km  \\\n",
       "11241     1047  2895.636557  14.858637  2021-06-17      6         2.90   \n",
       "755         83  1589.051469  16.296838  2021-05-17      5         1.59   \n",
       "13589     1216  4236.954022  22.079187  2021-12-27     12         4.24   \n",
       "14480     1278  4327.983026  18.983949  2021-07-14      7         4.33   \n",
       "5522       588  4455.193637  22.900430  2021-10-08     10         4.46   \n",
       "\n",
       "       duration_m       name  age       city subscription_type  minute_price  \\\n",
       "11241          15    Дмитрий   23       Сочи              free             8   \n",
       "755            16     Ксения   23       Омск             ultra             6   \n",
       "13589          22      Элина   20     Тюмень              free             8   \n",
       "14480          19    Дмитрий   24  Краснодар              free             8   \n",
       "5522           23  Маргарита   24     Москва             ultra             6   \n",
       "\n",
       "       start_ride_price  subscription_fee  \n",
       "11241                50                 0  \n",
       "755                   0               199  \n",
       "13589                50                 0  \n",
       "14480                50                 0  \n",
       "5522                  0               199  "
      ]
     },
     "execution_count": 33,
     "metadata": {},
     "output_type": "execute_result"
    }
   ],
   "source": [
    "df.sample(5)"
   ]
  },
  {
   "cell_type": "code",
   "execution_count": 34,
   "id": "886ab615",
   "metadata": {},
   "outputs": [
    {
     "name": "stdout",
     "output_type": "stream",
     "text": [
      "<class 'pandas.core.frame.DataFrame'>\n",
      "RangeIndex: 18068 entries, 0 to 18067\n",
      "Data columns (total 14 columns):\n",
      " #   Column             Non-Null Count  Dtype  \n",
      "---  ------             --------------  -----  \n",
      " 0   user_id            18068 non-null  int64  \n",
      " 1   distance           18068 non-null  float64\n",
      " 2   duration           18068 non-null  float64\n",
      " 3   date               18068 non-null  object \n",
      " 4   month              18068 non-null  int32  \n",
      " 5   distance_km        18068 non-null  float64\n",
      " 6   duration_m         18068 non-null  int32  \n",
      " 7   name               18068 non-null  object \n",
      " 8   age                18068 non-null  int64  \n",
      " 9   city               18068 non-null  object \n",
      " 10  subscription_type  18068 non-null  object \n",
      " 11  minute_price       18068 non-null  int64  \n",
      " 12  start_ride_price   18068 non-null  int64  \n",
      " 13  subscription_fee   18068 non-null  int64  \n",
      "dtypes: float64(3), int32(2), int64(5), object(4)\n",
      "memory usage: 1.8+ MB\n"
     ]
    }
   ],
   "source": [
    "# проверка на дубли после объединения.\n",
    "#df.duplicated().sum() # полных дублирующихся записей нет\n",
    "df.info() #данные объединенны корректно"
   ]
  },
  {
   "cell_type": "code",
   "execution_count": 35,
   "id": "1eaaeee0",
   "metadata": {},
   "outputs": [
    {
     "data": {
      "text/plain": [
       "(18068, 7)"
      ]
     },
     "execution_count": 35,
     "metadata": {},
     "output_type": "execute_result"
    }
   ],
   "source": [
    "rides_go.shape"
   ]
  },
  {
   "cell_type": "code",
   "execution_count": 36,
   "id": "dccbb2d8",
   "metadata": {},
   "outputs": [
    {
     "data": {
      "text/plain": [
       "(1534, 5)"
      ]
     },
     "execution_count": 36,
     "metadata": {},
     "output_type": "execute_result"
    }
   ],
   "source": [
    "users_go.shape"
   ]
  },
  {
   "cell_type": "code",
   "execution_count": 37,
   "id": "acd3f793",
   "metadata": {},
   "outputs": [
    {
     "data": {
      "text/plain": [
       "(2, 4)"
      ]
     },
     "execution_count": 37,
     "metadata": {},
     "output_type": "execute_result"
    }
   ],
   "source": [
    "subscriptions_go.shape"
   ]
  },
  {
   "cell_type": "code",
   "execution_count": 38,
   "id": "0b04ca31",
   "metadata": {},
   "outputs": [
    {
     "data": {
      "text/plain": [
       "(18068, 14)"
      ]
     },
     "execution_count": 38,
     "metadata": {},
     "output_type": "execute_result"
    }
   ],
   "source": [
    "df.shape"
   ]
  },
  {
   "cell_type": "markdown",
   "id": "1f342266",
   "metadata": {},
   "source": [
    "Размерность объединенного датасета не нарушена, после сращивания строк стало ровно столько, сколько было в датасете с действиями клиентов rides_go - 18068 строк. Пропуски в данных также отстутсвуют, видно из проверки выше df.info(). В каждом поле 18068 значений."
   ]
  },
  {
   "cell_type": "markdown",
   "id": "398f5b16",
   "metadata": {},
   "source": [
    "### Создадим ещё два датафрейма из датафрейма, созданного на этапе 4.1:\n",
    "- **df_free** c данными о пользователях без подписки;\n",
    "- **df_ultra** с данными о пользователях с подпиской.\n",
    "\n",
    "<a class=\"anchor\" id=\"chapter42\"></a>\n",
    "\n",
    "[*в начало*](#chapter0)"
   ]
  },
  {
   "cell_type": "code",
   "execution_count": 55,
   "id": "6f234a00",
   "metadata": {},
   "outputs": [],
   "source": [
    "df_free = df.query('subscription_type == \"free\"')"
   ]
  },
  {
   "cell_type": "code",
   "execution_count": 56,
   "id": "5e34e00b",
   "metadata": {},
   "outputs": [],
   "source": [
    "df_ultra = df.query('subscription_type == \"ultra\"')"
   ]
  },
  {
   "cell_type": "code",
   "execution_count": 57,
   "id": "5caf60f8",
   "metadata": {},
   "outputs": [],
   "source": [
    "#df_free['subscription_type'].value_counts()\n",
    "#df_ultra['subscription_type'].value_counts()"
   ]
  },
  {
   "cell_type": "markdown",
   "id": "b4a688e3",
   "metadata": {},
   "source": [
    "### 4.3 Визуализируем информацию о расстоянии и времени поездок для пользователей обеих категорий.\n",
    "<a class=\"anchor\" id=\"chapter43\"></a>\n",
    "\n",
    "[*в начало*](#chapter0)"
   ]
  },
  {
   "cell_type": "code",
   "execution_count": 42,
   "id": "e539d7c1",
   "metadata": {},
   "outputs": [
    {
     "data": {
      "image/png": "[encoded data removed]",
      "text/plain": [
       "<Figure size 1600x800 with 1 Axes>"
      ]
     },
     "metadata": {},
     "output_type": "display_data"
    }
   ],
   "source": [
    "plt.figure(figsize=(20,10), dpi = 80)\n",
    "#sns.displot(data=table, x=\"duration_m\", hue=\"subscription_type\", y=\"count\");\n",
    "sns.histplot(data=df, x=\"duration\", hue=\"subscription_type\", kde=True, bins=100)#, multiple='stack')\n",
    "plt.title('Гистограмма времени поездок у пользователей с подпиской и без', fontsize=20)\n",
    "plt.show();"
   ]
  },
  {
   "cell_type": "markdown",
   "id": "152be141",
   "metadata": {},
   "source": [
    "Клиенты без подписки чаще пользуются сервисом на короткое время. Скорее всего это спонтанные/незапланированные поездки"
   ]
  },
  {
   "cell_type": "code",
   "execution_count": 58,
   "id": "7cba17f9",
   "metadata": {},
   "outputs": [
    {
     "data": {
      "image/png": "[encoded data removed]",
      "text/plain": [
       "<Figure size 1600x800 with 1 Axes>"
      ]
     },
     "metadata": {},
     "output_type": "display_data"
    }
   ],
   "source": [
    "plt.figure(figsize=(20,10), dpi = 80)\n",
    "#sns.displot(data=table, x=\"duration_m\", hue=\"subscription_type\", y=\"count\");\n",
    "sns.histplot(data=df, x=\"distance\", hue=\"subscription_type\", kde=True, bins=100)#, multiple='stack')\n",
    "plt.title('Гистограмма расстояний поездок у пользователей с подпиской и без', fontsize=20)\n",
    "plt.show();"
   ]
  },
  {
   "cell_type": "markdown",
   "id": "2ed2d6c7",
   "metadata": {},
   "source": [
    "Клиенты без подписки часто проезжают не больше 1000 метров и могут прервать поездку в самом начале."
   ]
  },
  {
   "cell_type": "markdown",
   "id": "3343e9d2",
   "metadata": {},
   "source": [
    "## Шаг 5. Подсчёт выручки\n",
    "\n",
    "5.1 Создадим датафрейм с агрегированными данными о поездках \n",
    "на основе датафрейма с объединёнными данными из шага 4: найдем суммарное расстояние, количество поездок и суммарное время для каждого пользователя за каждый месяц.\n",
    "\n",
    "<a class=\"anchor\" id=\"chapter5\"></a>\n",
    "\n",
    "[*в начало*](#chapter0)"
   ]
  },
  {
   "cell_type": "code",
   "execution_count": 59,
   "id": "9e2f4f0f",
   "metadata": {},
   "outputs": [],
   "source": [
    "# сводная таблица количества поездок и суммарного расстояния по каждому клиенту агрегированные по месяцам\n",
    "df_distance = df.pivot_table(index=['user_id', 'month'], \n",
    "                                    values='distance', aggfunc=('sum','count')).reset_index()\n",
    "df_distance = df_distance.rename(columns = {'sum': 'sum_distance','count': 'count_ride'})"
   ]
  },
  {
   "cell_type": "code",
   "execution_count": 60,
   "id": "85a64457",
   "metadata": {},
   "outputs": [],
   "source": [
    "# сводная таблица суммарного времени затраченного на поездки по каждому клиенту по месяцам\n",
    "df_duration = df.pivot_table(index=['user_id', 'month'], \n",
    "                                    values='duration', aggfunc=('sum')).reset_index()\n",
    "df_duration = df_duration.rename(columns = {'sum': 'sum_duration'})"
   ]
  },
  {
   "cell_type": "code",
   "execution_count": 61,
   "id": "484e031d",
   "metadata": {},
   "outputs": [],
   "source": [
    "df_agg = df_distance.merge(df_duration, on=['user_id','month'], how='left')\n"
   ]
  },
  {
   "cell_type": "code",
   "execution_count": null,
   "id": "77d0baa9",
   "metadata": {},
   "outputs": [],
   "source": []
  },
  {
   "cell_type": "markdown",
   "id": "4097c0fd",
   "metadata": {},
   "source": [
    "5.2 В этот же датафрейм добавим столбец с помесячной выручкой, которую принёс каждый пользователь. Для этого обратимся к информации об условиях оплаты для подписчиков и тех, у кого нет подписки. Продолжительность каждой поездки в каждой строке исходного датафрейма для подсчёта стоимости округлим до следующего целого числа: например, значения 25.3, 25.5 и 26.0 будут преобразованы к 26."
   ]
  },
  {
   "cell_type": "markdown",
   "id": "910b714d",
   "metadata": {},
   "source": [
    "Чтобы совершать поездки по городу, пользователи сервиса GoFast пользуются мобильным приложением. Сервисом можно пользоваться:\n",
    "- без подписки\n",
    "    - абонентская плата отсутствует;\n",
    "    - стоимость одной минуты поездки — 8 рублей;\n",
    "    - стоимость старта (начала поездки) — 50 рублей;\n",
    "- с подпиской Ultra\n",
    "    - абонентская плата — 199 рублей в месяц;\n",
    "    - стоимость одной минуты поездки — 6 рублей;\n",
    "    - стоимость старта — бесплатно."
   ]
  },
  {
   "cell_type": "code",
   "execution_count": 44,
   "id": "5655cc31",
   "metadata": {},
   "outputs": [],
   "source": [
    "# Округление до целого в большую сторону\n",
    "df['duration_ceil'] = df['duration'].apply(np.ceil).astype('int')"
   ]
  },
  {
   "cell_type": "code",
   "execution_count": 45,
   "id": "60e15032",
   "metadata": {},
   "outputs": [],
   "source": [
    "# сводная таблица суммарного округленного времени затраченного на поездки по каждому клиенту по месяцам\n",
    "df_duration = df.pivot_table(index=['user_id', 'month', 'minute_price', 'start_ride_price', 'subscription_fee', 'subscription_type'], \n",
    "                                    values='duration_ceil', aggfunc=('sum')).reset_index()\n",
    "df_duration = df_duration.rename(columns = {'sum': 'sum_duration_ceil'})"
   ]
  },
  {
   "cell_type": "code",
   "execution_count": 46,
   "id": "68180f43",
   "metadata": {},
   "outputs": [],
   "source": [
    "df_agg = df_agg.merge(df_duration, on=['user_id','month'], how='left')"
   ]
  },
  {
   "cell_type": "code",
   "execution_count": 47,
   "id": "bebdd218",
   "metadata": {},
   "outputs": [],
   "source": [
    "# Расчет оплаты для всех пользователей\n",
    "df_agg['payment'] = (df_agg['minute_price'] * df_agg['duration_ceil'] + df_agg['start_ride_price'] * \n",
    "                     df_agg['count_ride'] + df_agg['subscription_fee'])"
   ]
  },
  {
   "cell_type": "code",
   "execution_count": 48,
   "id": "81ef2268",
   "metadata": {},
   "outputs": [],
   "source": [
    "# Удаляем поля с детализацией подписки\n",
    "df_agg = df_agg.drop(columns=['minute_price','start_ride_price', 'subscription_fee'], axis=1)"
   ]
  },
  {
   "cell_type": "code",
   "execution_count": 49,
   "id": "7aa755a4",
   "metadata": {},
   "outputs": [
    {
     "data": {
      "text/html": [
       "<div>\n",
       "<style scoped>\n",
       "    .dataframe tbody tr th:only-of-type {\n",
       "        vertical-align: middle;\n",
       "    }\n",
       "\n",
       "    .dataframe tbody tr th {\n",
       "        vertical-align: top;\n",
       "    }\n",
       "\n",
       "    .dataframe thead th {\n",
       "        text-align: right;\n",
       "    }\n",
       "</style>\n",
       "<table border=\"1\" class=\"dataframe\">\n",
       "  <thead>\n",
       "    <tr style=\"text-align: right;\">\n",
       "      <th></th>\n",
       "      <th>user_id</th>\n",
       "      <th>month</th>\n",
       "      <th>count_ride</th>\n",
       "      <th>sum_distance</th>\n",
       "      <th>duration</th>\n",
       "      <th>subscription_type</th>\n",
       "      <th>duration_ceil</th>\n",
       "      <th>payment</th>\n",
       "    </tr>\n",
       "  </thead>\n",
       "  <tbody>\n",
       "    <tr>\n",
       "      <th>6147</th>\n",
       "      <td>904</td>\n",
       "      <td>5</td>\n",
       "      <td>1</td>\n",
       "      <td>2594.213785</td>\n",
       "      <td>26.150257</td>\n",
       "      <td>free</td>\n",
       "      <td>27</td>\n",
       "      <td>266</td>\n",
       "    </tr>\n",
       "    <tr>\n",
       "      <th>2074</th>\n",
       "      <td>317</td>\n",
       "      <td>3</td>\n",
       "      <td>2</td>\n",
       "      <td>7125.385698</td>\n",
       "      <td>40.501394</td>\n",
       "      <td>ultra</td>\n",
       "      <td>42</td>\n",
       "      <td>451</td>\n",
       "    </tr>\n",
       "    <tr>\n",
       "      <th>1141</th>\n",
       "      <td>175</td>\n",
       "      <td>9</td>\n",
       "      <td>3</td>\n",
       "      <td>10560.743712</td>\n",
       "      <td>57.610938</td>\n",
       "      <td>ultra</td>\n",
       "      <td>59</td>\n",
       "      <td>553</td>\n",
       "    </tr>\n",
       "    <tr>\n",
       "      <th>5410</th>\n",
       "      <td>811</td>\n",
       "      <td>8</td>\n",
       "      <td>1</td>\n",
       "      <td>4646.583377</td>\n",
       "      <td>26.939750</td>\n",
       "      <td>free</td>\n",
       "      <td>27</td>\n",
       "      <td>266</td>\n",
       "    </tr>\n",
       "    <tr>\n",
       "      <th>7485</th>\n",
       "      <td>1066</td>\n",
       "      <td>4</td>\n",
       "      <td>3</td>\n",
       "      <td>8127.583766</td>\n",
       "      <td>51.186437</td>\n",
       "      <td>free</td>\n",
       "      <td>53</td>\n",
       "      <td>574</td>\n",
       "    </tr>\n",
       "    <tr>\n",
       "      <th>3778</th>\n",
       "      <td>578</td>\n",
       "      <td>9</td>\n",
       "      <td>2</td>\n",
       "      <td>6587.079284</td>\n",
       "      <td>39.059718</td>\n",
       "      <td>ultra</td>\n",
       "      <td>40</td>\n",
       "      <td>439</td>\n",
       "    </tr>\n",
       "    <tr>\n",
       "      <th>397</th>\n",
       "      <td>63</td>\n",
       "      <td>9</td>\n",
       "      <td>1</td>\n",
       "      <td>4195.345919</td>\n",
       "      <td>31.976730</td>\n",
       "      <td>ultra</td>\n",
       "      <td>32</td>\n",
       "      <td>391</td>\n",
       "    </tr>\n",
       "    <tr>\n",
       "      <th>4339</th>\n",
       "      <td>669</td>\n",
       "      <td>1</td>\n",
       "      <td>2</td>\n",
       "      <td>5634.683916</td>\n",
       "      <td>41.577256</td>\n",
       "      <td>ultra</td>\n",
       "      <td>43</td>\n",
       "      <td>457</td>\n",
       "    </tr>\n",
       "    <tr>\n",
       "      <th>4581</th>\n",
       "      <td>705</td>\n",
       "      <td>9</td>\n",
       "      <td>2</td>\n",
       "      <td>7031.024399</td>\n",
       "      <td>32.356994</td>\n",
       "      <td>free</td>\n",
       "      <td>34</td>\n",
       "      <td>372</td>\n",
       "    </tr>\n",
       "    <tr>\n",
       "      <th>11180</th>\n",
       "      <td>1518</td>\n",
       "      <td>1</td>\n",
       "      <td>1</td>\n",
       "      <td>1965.382492</td>\n",
       "      <td>18.716918</td>\n",
       "      <td>free</td>\n",
       "      <td>19</td>\n",
       "      <td>202</td>\n",
       "    </tr>\n",
       "  </tbody>\n",
       "</table>\n",
       "</div>"
      ],
      "text/plain": [
       "       user_id  month  count_ride  sum_distance   duration subscription_type  \\\n",
       "6147       904      5           1   2594.213785  26.150257              free   \n",
       "2074       317      3           2   7125.385698  40.501394             ultra   \n",
       "1141       175      9           3  10560.743712  57.610938             ultra   \n",
       "5410       811      8           1   4646.583377  26.939750              free   \n",
       "7485      1066      4           3   8127.583766  51.186437              free   \n",
       "3778       578      9           2   6587.079284  39.059718             ultra   \n",
       "397         63      9           1   4195.345919  31.976730             ultra   \n",
       "4339       669      1           2   5634.683916  41.577256             ultra   \n",
       "4581       705      9           2   7031.024399  32.356994              free   \n",
       "11180     1518      1           1   1965.382492  18.716918              free   \n",
       "\n",
       "       duration_ceil  payment  \n",
       "6147              27      266  \n",
       "2074              42      451  \n",
       "1141              59      553  \n",
       "5410              27      266  \n",
       "7485              53      574  \n",
       "3778              40      439  \n",
       "397               32      391  \n",
       "4339              43      457  \n",
       "4581              34      372  \n",
       "11180             19      202  "
      ]
     },
     "execution_count": 49,
     "metadata": {},
     "output_type": "execute_result"
    }
   ],
   "source": [
    "df_agg.sample(10)"
   ]
  },
  {
   "cell_type": "code",
   "execution_count": 50,
   "id": "fff87999",
   "metadata": {},
   "outputs": [
    {
     "data": {
      "image/png": "[encoded data removed]",
      "text/plain": [
       "<Figure size 1600x800 with 1 Axes>"
      ]
     },
     "metadata": {},
     "output_type": "display_data"
    }
   ],
   "source": [
    "plt.figure(figsize=(20,10), dpi = 80)\n",
    "#sns.displot(data=table, x=\"duration_m\", hue=\"subscription_type\", y=\"count\");\n",
    "sns.histplot(data=df_agg, x=\"payment\", hue=\"subscription_type\", kde=True, bins=100)#, multiple='stack')\n",
    "plt.title('Гистограмма помесячной выручки от пользователей с подпиской и без', fontsize=20)\n",
    "plt.show();"
   ]
  },
  {
   "cell_type": "markdown",
   "id": "c83906b3",
   "metadata": {},
   "source": [
    "## Шаг 6. Проверка гипотез\n",
    "Продакт-менеджеры сервиса хотят увеличить количество пользователей с подпиской. Для этого они будут проводить различные акции, но сначала нужно выяснить несколько важных моментов.\n",
    "1. Важно понять, тратят ли пользователи с подпиской больше времени на поездки? \n",
    "Если да, то пользователи с подпиской могут быть «выгоднее» для компании. Проверим гипотезу. Используем исходные данные о продолжительности каждой сессии — отдельно для подписчиков и тех, у кого нет подписки.\n",
    "2. Расстояние одной поездки в 3130 метров — оптимальное с точки зрения износа самоката. \n",
    "Можно ли сказать, что среднее расстояние, которое проезжают пользователи с подпиской за одну поездку, не превышает 3130 метров? Проверим гипотезу и сделаем выводы.\n",
    "3. Проверим гипотезу о том, будет ли помесячная выручка от пользователей с подпиской по месяцам выше, чем выручка от пользователей без подписки. \n",
    "Сделаем вывод.\n",
    "4. Представим такую ситуацию: техническая команда сервиса обновила сервера, с которыми взаимодействует мобильное приложение. \n",
    "Она надеется, что из-за этого количество обращений в техподдержку значимо снизилось. Некоторый файл содержит для каждого пользователя данные о количестве обращений до обновления и после него. Определим подходящий тест для проверки этой гипотезы.\n",
    "\n",
    "<a class=\"anchor\" id=\"chapter6\"></a>\n",
    "\n",
    "[*в начало*](#chapter0)"
   ]
  },
  {
   "cell_type": "markdown",
   "id": "09e8568f",
   "metadata": {},
   "source": [
    "\n",
    "### 6.1 Важно понять, тратят ли пользователи с подпиской больше времени на поездки? \n",
    "Если да, то пользователи с подпиской могут быть «выгоднее» для компании. Проверим гипотезу. Используем исходные данные о продолжительности каждой сессии — отдельно для подписчиков и тех, у кого нет подписки.\n",
    "\n",
    "-------------------\n",
    "В качестве решения проверим гипотезу \"О равенстве средних двух генеральных совокупностей для двух независимых выборок\".\n",
    "\n",
    "**Нулевая гипотеза** предполагает, что средние двух генеральных совокупностей равны.\n",
    "- H0: μ1 = μ2\n",
    "\n",
    "**Альтернативная гипотеза** - что у пользователей с подпиской среднее больше. (Правосторонняя альтернативная гипотеза)\n",
    "- H1: μ1 > μ2\n",
    "\n",
    "где:\n",
    "- μ1 — среднее значение времени сесии пользователей с подпиской\n",
    "- μ2 — среднее значение времени сесии пользователей без подписки\n",
    "\n",
    "Нужно провести двухвыборочный t-тест для независимых выборок методом scipy.stats.ttest_ind\n",
    "\n",
    "- df_free генеральная совокупность c данными о пользователях без подписки;\n",
    "- df_ultra генеральная совокупность с данными о пользователях с подпиской.\n",
    "\n",
    "<a class=\"anchor\" id=\"chapter61\"></a>\n",
    "\n",
    "[*в начало*](#chapter0)"
   ]
  },
  {
   "cell_type": "code",
   "execution_count": 51,
   "id": "70435560",
   "metadata": {},
   "outputs": [
    {
     "name": "stdout",
     "output_type": "stream",
     "text": [
      "Среднее время клиентов с подпиской: 18.46530840256197\n",
      "Среднее время клиентов без подписки: 17.302646140899085\n",
      "p-значение: 2.194352826653804e-14\n",
      "Отвергаем нулевую гипотезу\n"
     ]
    }
   ],
   "source": [
    "# время сессий подписчиков\n",
    "#time_ultra = round(df.query('subscription_type ==\"ultra\"')['duration'],1)\n",
    "time_ultra = df_ultra['duration'].sample(3000)\n",
    "# время сессий клиентов без подписки\n",
    "#time_free = round(df.query('subscription_type ==\"free\"')['duration'],1)\n",
    "time_free = df_free['duration'].sample(3000)\n",
    "\n",
    "print(f'Среднее время клиентов с подпиской: {np.mean(time_ultra)}')\n",
    "print(f'Среднее время клиентов без подписки: {np.mean(time_free)}')\n",
    "\n",
    "alpha = 0.05 # уровень стат. значимости\n",
    "\n",
    "results = st.ttest_ind(time_ultra, time_free, alternative='greater') # less\n",
    "\n",
    "# вывод на экран получившееся p-значение\n",
    "print('p-значение:', results.pvalue)\n",
    "\n",
    "if results.pvalue < alpha: # сравнение p-значение с alpha\n",
    "    print('Отвергаем нулевую гипотезу')\n",
    "else:\n",
    "    print('Не получилось отвергнуть нулевую гипотезу')"
   ]
  },
  {
   "cell_type": "markdown",
   "id": "5741a56b",
   "metadata": {},
   "source": [
    "Размер датафреймов позволяет провести t-тест на обоих генеральных совокупностях без выборок. Результат тот же ,только зачения не меняются."
   ]
  },
  {
   "cell_type": "code",
   "execution_count": 52,
   "id": "74958519",
   "metadata": {},
   "outputs": [
    {
     "name": "stdout",
     "output_type": "stream",
     "text": [
      "Среднее время клиентов с подпиской: 18.54198516280583\n",
      "Среднее время клиентов без подписки: 17.39090929866399\n",
      "p-значение: 1.2804098316645618e-34\n",
      "Отвергаем нулевую гипотезу\n"
     ]
    }
   ],
   "source": [
    "# время сессий подписчиков\n",
    "#time_ultra = round(df.query('subscription_type ==\"ultra\"')['duration'],1)\n",
    "time_ultra = df_ultra['duration']\n",
    "# время сессий клиентов без подписки\n",
    "#time_free = round(df.query('subscription_type ==\"free\"')['duration'],1)\n",
    "time_free = df_free['duration']\n",
    "\n",
    "print(f'Среднее время клиентов с подпиской: {np.mean(time_ultra)}')\n",
    "print(f'Среднее время клиентов без подписки: {np.mean(time_free)}')\n",
    "\n",
    "alpha = 0.05 # уровень стат. значимости\n",
    "\n",
    "results = st.ttest_ind(time_ultra, time_free, alternative='greater') # less\n",
    "\n",
    "# вывод на экран получившееся p-значение\n",
    "print('p-значение:', results.pvalue)\n",
    "\n",
    "if results.pvalue < alpha: # сравнение p-значение с alpha\n",
    "    print('Отвергаем нулевую гипотезу')\n",
    "else:\n",
    "    print('Не получилось отвергнуть нулевую гипотезу')"
   ]
  },
  {
   "cell_type": "markdown",
   "id": "40cae11b",
   "metadata": {},
   "source": [
    "#### Вывод: \n",
    "Значение p-value намного ниже порога статистической значимости, вероятность получить среднее время пользователей с подпиской равное среднему времени пользователей без подписки - очень мала. Нулевая гипотеза отвергнута в пользу альтернативной, **H1: μ1 > μ2**. Значит продакт-менеджеры сервиса в части предположения о большей длительности сессий пользователей с подпиской угадали, у пользоваелей с подпиской действительно длиннее сессии."
   ]
  },
  {
   "cell_type": "markdown",
   "id": "98afbad9",
   "metadata": {},
   "source": [
    "### 6.2 Расстояние одной поездки в 3130 метров — оптимальное с точки зрения износа самоката. \n",
    "Можно ли сказать, что среднее расстояние, которое проезжают пользователи с подпиской за одну поездку, не превышает 3130 метров? Проверим гипотезу и сделаем выводы.\n",
    "\n",
    "-------------------------\n",
    "Поверяем гипотезу о равенстве среднего генеральной совокупности числу, зафиксированному в нулевой гипотезе. Методом scipy.stats.ttest_1samp\n",
    "\n",
    "**Нулевая гипотеза** предполагает, что: среднее генеральной совокупности равно фиксированному числу 3130 метров\n",
    "- H0: μ1 = 3130\n",
    "\n",
    "**Альтернативная гипотеза** - что пользователи с подпиской ездят на расстояния больше чем 3130 меттров. (Правостороння альтернативная гипотеза)\n",
    "- H1: μ1 > 3130\n",
    "\n",
    "<a class=\"anchor\" id=\"chapter62\"></a>\n",
    "\n",
    "[*в начало*](#chapter0)"
   ]
  },
  {
   "cell_type": "code",
   "execution_count": 53,
   "id": "a695cda6",
   "metadata": {},
   "outputs": [
    {
     "name": "stdout",
     "output_type": "stream",
     "text": [
      "Среднее расстояние выборки: 3101.573099465544\n",
      "p-значение: 0.9659179613905651\n",
      "Не получилось отвергнуть нулевую гипотезу\n"
     ]
    }
   ],
   "source": [
    "distance_ultra = df_ultra['distance'].sample(3000)\n",
    "#distance_ultra = df_ultra['distance']\n",
    "\n",
    "interested_value = 3130 # оптимальное расстояние с точки зрения износа самоката\n",
    "\n",
    "print(f'Среднее расстояние выборки: {np.mean(distance_ultra)}')\n",
    "\n",
    "alpha = 0.05 # уровень статистической значимости\n",
    "\n",
    "results = st.ttest_1samp(\n",
    "    distance_ultra, \n",
    "    interested_value, \n",
    "    alternative='greater')\n",
    "\n",
    "print('p-значение:', results.pvalue)\n",
    "\n",
    "if results.pvalue < alpha:\n",
    "    print('Отвергаем нулевую гипотезу')\n",
    "else:\n",
    "    print('Не получилось отвергнуть нулевую гипотезу')"
   ]
  },
  {
   "cell_type": "code",
   "execution_count": 54,
   "id": "6ca9438c",
   "metadata": {},
   "outputs": [
    {
     "data": {
      "text/plain": [
       "3115.4453880370247"
      ]
     },
     "execution_count": 54,
     "metadata": {},
     "output_type": "execute_result"
    }
   ],
   "source": [
    "df_ultra['distance'].mean()"
   ]
  },
  {
   "cell_type": "markdown",
   "id": "c12b72c9",
   "metadata": {},
   "source": [
    "#### Вывод:\n",
    "Предположение менеджеров сервиса **верно**, можно сказать что среднее расстояние одной поездки пользователей с подпиской не превышает 3130 метров."
   ]
  },
  {
   "cell_type": "markdown",
   "id": "8a46f6ff",
   "metadata": {},
   "source": [
    "\n",
    "### 6.3 Проверим гипотезу о том, будет ли помесячная выручка от пользователей с подпиской по месяцам выше, чем выручка от пользователей без подписки. \n",
    "Сделаем вывод.\n",
    "\n",
    "-------------------\n",
    "В качестве решения проверим гипотезу \"О равенстве средних двух генеральных совокупностей для двух независимых выборок\".\n",
    "\n",
    "**Нулевая гипотеза** предполагает, что средние двух генеральных совокупностей равны.\n",
    "- H0: μ1 = μ2\n",
    "\n",
    "**Альтернативная гипотеза** - что у пользователей с подпиской среднее больше. (Правосторонняя альтернативная гипотеза)\n",
    "- H1: μ1 > μ2\n",
    "\n",
    "где:\n",
    "- μ1 — среднее значение выручки от пользователей с подпиской по месяцам \n",
    "- μ2 — среднее значение выручки от пользователей без подписки по месяцам\n",
    "\n",
    "Нужно провести двухвыборочный t-тест для независимых выборок методом scipy.stats.ttest_ind\n",
    "\n",
    "**Проверяем альтернативную гипотезу, что помесячная выручка от клиентов с подпиской больше чем от клиентов без подписки**\n",
    "\n",
    "<a class=\"anchor\" id=\"chapter63\"></a>\n",
    "\n",
    "[*в начало*](#chapter0)\n"
   ]
  },
  {
   "cell_type": "code",
   "execution_count": 55,
   "id": "37d1d686",
   "metadata": {},
   "outputs": [
    {
     "data": {
      "text/plain": [
       "6798"
      ]
     },
     "execution_count": 55,
     "metadata": {},
     "output_type": "execute_result"
    }
   ],
   "source": [
    "#Число строк пользователей без подписки\n",
    "df_agg.query('subscription_type == \"free\"')['payment'].shape[0]"
   ]
  },
  {
   "cell_type": "code",
   "execution_count": 56,
   "id": "786e8036",
   "metadata": {},
   "outputs": [
    {
     "data": {
      "text/plain": [
       "4533"
      ]
     },
     "execution_count": 56,
     "metadata": {},
     "output_type": "execute_result"
    }
   ],
   "source": [
    "#Число строк пользователей с подпиской\n",
    "df_agg.query('subscription_type != \"free\"')['payment'].shape[0]"
   ]
  },
  {
   "cell_type": "code",
   "execution_count": 57,
   "id": "83e3951b",
   "metadata": {},
   "outputs": [
    {
     "name": "stdout",
     "output_type": "stream",
     "text": [
      "Средняя выручка от клиентов с подпиской: 360.826\n",
      "Средняя выручка от клиентов без подписки: 327.71133333333336\n",
      "p-значение: 2.5286702679676476e-19\n",
      "Отвергаем нулевую гипотезу\n"
     ]
    }
   ],
   "source": [
    "# проверяем альтернативную гипотезу, что помесячная выручка от клиентов с подпиской больше чем от клиентов без подписки\n",
    "#выручка от клиентов с подпиской\n",
    "payment_ultra = df_agg.query('subscription_type != \"free\"')['payment'].sample(3000)\n",
    "#выручка от клиентов без подписки\n",
    "payment_free = df_agg.query('subscription_type == \"free\"')['payment'].sample(3000)\n",
    "\n",
    "print(f'Средняя выручка от клиентов с подпиской: {np.mean(payment_ultra)}')\n",
    "print(f'Средняя выручка от клиентов без подписки: {np.mean(payment_free)}')\n",
    "\n",
    "alpha = 0.05 # уровень стат. значимости\n",
    "\n",
    "results = st.ttest_ind(payment_ultra, payment_free, alternative='greater') # less\n",
    "\n",
    "# вывод на экран получившееся p-значение\n",
    "print('p-значение:', results.pvalue)\n",
    "\n",
    "if results.pvalue < alpha: # сравнение p-значение с alpha\n",
    "    print('Отвергаем нулевую гипотезу')\n",
    "else:\n",
    "    print('Не получилось отвергнуть нулевую гипотезу')"
   ]
  },
  {
   "cell_type": "markdown",
   "id": "b3ea1c8f",
   "metadata": {},
   "source": [
    "#### Вывод:\n",
    "Нулевая гипотеза отвергнута в пользу альтернативной, выручка от клиентов с подпиской больше, чем выручка от клиентов без подписки **H1: μ1 > μ2**"
   ]
  },
  {
   "cell_type": "markdown",
   "id": "706f43fc",
   "metadata": {},
   "source": [
    "### 6.4 Представим такую ситуацию: техническая команда сервиса обновила сервера, с которыми взаимодействует мобильное приложение. \n",
    "Она надеется, что из-за этого количество обращений в техподдержку значимо снизилось. Некоторый файл содержит для каждого пользователя данные о количестве обращений до обновления и после него.\n",
    "<a class=\"anchor\" id=\"chapter64\"></a>\n",
    "\n",
    "[*в начало*](#chapter0)"
   ]
  },
  {
   "cell_type": "markdown",
   "id": "7fd979ad",
   "metadata": {},
   "source": [
    "**Гипотеза:** Необходимо проверить гипотезу \"О равенстве среднего значения генеральной совокупности до и после изменения\" методом scipy.stats.ttest_rel.\n",
    "\n",
    "**Нулевая гипотеза** предполагает, что: среднее генеральной совокупности равно среднему генеральной совокупности после изменения\n",
    "- H0: μ1 = μ2\n",
    "\n",
    "**Альтернативная гипотеза** - что среднее генеральной совокупности после изменения меньше, чем до изменения. (Левосторонняя альтернативная гипотеза)\n",
    "- H1: μ1 < μ2"
   ]
  },
  {
   "cell_type": "markdown",
   "id": "d645cda1",
   "metadata": {},
   "source": [
    "## Вывод\n",
    "<a class=\"anchor\" id=\"chapter7\"></a>\n",
    "\n",
    "[*в начало*](#chapter0)\n",
    "\n",
    "1. В ходе работ анализировались данные по клиентам сервиса из 8 городов:\n",
    "    - состав по числу клиентов приблизительно одинаковый от 219 в Пятигорске до 168 из Москвы;\n",
    "    - соотношение клиентов с подпиской - 46%, без - 54%;\n",
    "    - возраст клиентов распределен нормально вокруг среднего - 25 лет и варьируется в пределах от 12 до 43 лет;\n",
    "    - детализацию по клиентам можно посмотреть в исследовательской части проекта по [*ссылке*](#chapter31).\n",
    "2. Клиенты без подписки совершали поездок больше, но могли пользоваться сервисом непродолжительное время или проехать недалекое расстояние [*ссылка*](#chapter4).\n",
    "3. На вопросы от продакт-менеджеров сервиса, были получены следующие ответы:\n",
    "    1. Важно понять, тратят ли пользователи с подпиской больше времени на поездки? Если да, то пользователи с подпиской могут быть «выгоднее» для компании.\n",
    "        - Среднее время клиентов с подпиской: 18.541985162805805\n",
    "        - Среднее время клиентов без подписки: 17.39090929866398\n",
    "        - Нулевая гипотеза отвергнута в пользу альтернативной, **продакт-менеджеры правы, у пользоваелей с подпиской сессии длиннее чем у пользователей без подписки**.\n",
    "    2. Расстояние одной поездки в 3130 метров — оптимальное с точки зрения износа самоката. Можно ли сказать, что среднее расстояние, которое проезжают пользователи с подпиской за одну поездку, не превышает 3130 метров?\n",
    "        - Нулевая гипотеза предполагает, что: среднее генеральной совокупности равно фиксированному числу 3130 метров\n",
    "        - Альтернативная гипотеза - что пользователи с подпиской ездят на расстояния больше чем 3130 меттров. (Правостороння альтернативная гипотеза)\n",
    "        - Среднее расстояние выборки: 3138.66, p-значение: 0.2825025605681639, не получилось отвергнуть нулевую гипотезу. **Предположение менеджеров сервиса верно, можно сказать что среднее расстояние одной поездки пользователей с подпиской не превышает 3130 метров**.\n",
    "    3. Проверьте гипотезу о том, будет ли помесячная выручка от пользователей с подпиской по месяцам выше, чем выручка от пользователей без подписки\n",
    "        - Нулевая гипотеза предполагает, что средние двух генеральных совокупностей равны.\n",
    "        - Альтернативная гипотеза - что у пользователей с подпиской среднее больше.\n",
    "        - Средняя выручка от клиентов с подпиской: 364\n",
    "        - Средняя выручка от клиентов без подписки: 328\n",
    "        - p-значение: 3.1937761678608687e-21\n",
    "        - Нулевая гипотеза отвергнута в пользу альтернативной, **выручка от клиентов с подпиской больше, чем выручка от клиентов без подписки**\n",
    "4. **Рекламному отделу можно рекомендовать продвигать подписку ultra**, для клиентов условия подписки не выглядят завышенными, при поверхностном изучении подписка ultra выглядит даже выгоднее с точки зрения поминутной тарификации 6 руб. вместо 8 руб.. Расширение клиентской базы и повышение лояльности это всегда выгоднее, чем иметь случайных пользователей, клиенты с подпиской более ответсвенно подходят к использованию сервиса, сессии у них длиннее по времени, выручка с них стабильнее и больше по размерам, чем с клиентов без подписки."
   ]
  },
  {
   "cell_type": "markdown",
   "id": "f18771ef",
   "metadata": {},
   "source": [
    "## Шаг 7 (необязательное задание). Распределения\n"
   ]
  },
  {
   "cell_type": "markdown",
   "id": "64bbaf7d",
   "metadata": {},
   "source": [
    "### 7.1 Отделу маркетинга GoFast поставили задачу: нужно провести акцию с раздачей промокодов на один бесплатный месяц подписки, в рамках которой как минимум 100 существующих клиентов должны продлить эту подписку. \n",
    "То есть по завершении периода действия подписки пользователь может либо отказаться от неё, либо продлить, совершив соответствующий платёж. \n",
    "\n",
    "Эта акция уже проводилась ранее и по итогу выяснилось, что после бесплатного пробного периода подписку продлевают **10%** пользователей. Выясните, какое минимальное количество промокодов нужно разослать, чтобы вероятность не выполнить план была примерно **5%**. \n",
    "\n",
    "Подберите параметры распределения, описывающего эту ситуацию, постройте график распределения и сформулируйте ответ на вопрос о количестве промокодов.\n",
    "- **Предлагаемое решение**:\n",
    "    - Нужно использовать биномиальное распределение, которое описывает указанную ситуацию. Подобрать подходящее значение параметра N для заданного параметра p=0.1 с помощью графиков и метода cdf() , сформулировуем вывод и ответ."
   ]
  },
  {
   "cell_type": "markdown",
   "id": "a8f603d8",
   "metadata": {},
   "source": [
    "#### Решение\n",
    "\n",
    "Исходим из того, что должны получить:\n",
    "- минимум клиентов = 100, при вероятности успеха равной 10%\n",
    "\n",
    "Пропорцией находим количество экспериментов\n",
    "100-10%\n",
    "n - 100%\n",
    "n=100*100/10=1000\n",
    "\n",
    "Для биномиального распределения:\n",
    "- мат.ожидание равно n⋅p, т.е. 1000*0.1 = 100\n",
    "- дисперсия = n⋅p⋅(1−p), т.е. 1000*0.1*(1-0.1) = 90\n",
    "- стандартное отклонение = np.sqrt(90) = 9.486832980505138\n",
    "\n",
    "\n",
    "\n",
    "\n",
    "то количество экспериментов должно быть "
   ]
  },
  {
   "cell_type": "code",
   "execution_count": 58,
   "id": "8dbd191d",
   "metadata": {},
   "outputs": [],
   "source": [
    "# 100 существующих клиентов должны продлить подписку после истечения акции по промокодам\n",
    "min_client = 100\n",
    "# по итогу выяснилось, что после бесплатного пробного периода подписку продлевают 10 % пользователей, т.е.:\n",
    "p = 0.1"
   ]
  },
  {
   "cell_type": "code",
   "execution_count": 59,
   "id": "5d278bc2",
   "metadata": {},
   "outputs": [
    {
     "data": {
      "text/plain": [
       "1000.0"
      ]
     },
     "execution_count": 59,
     "metadata": {},
     "output_type": "execute_result"
    }
   ],
   "source": [
    "#число экспериментов вычислем по пропорции\n",
    "n = min_client/p\n",
    "n"
   ]
  },
  {
   "cell_type": "code",
   "execution_count": 60,
   "id": "95dcb403",
   "metadata": {},
   "outputs": [
    {
     "data": {
      "text/plain": [
       "100.0"
      ]
     },
     "execution_count": 60,
     "metadata": {},
     "output_type": "execute_result"
    }
   ],
   "source": [
    "# математическое ожидание для биномиального распределения:\n",
    "mu = n*p\n",
    "mu"
   ]
  },
  {
   "cell_type": "code",
   "execution_count": 61,
   "id": "d4548164",
   "metadata": {},
   "outputs": [
    {
     "data": {
      "text/plain": [
       "90.0"
      ]
     },
     "execution_count": 61,
     "metadata": {},
     "output_type": "execute_result"
    }
   ],
   "source": [
    "# дисперсия биномиального распределения:\n",
    "d = n*p*(1-p)\n",
    "d"
   ]
  },
  {
   "cell_type": "code",
   "execution_count": 62,
   "id": "349b522f",
   "metadata": {},
   "outputs": [
    {
     "data": {
      "text/plain": [
       "9.486832980505138"
      ]
     },
     "execution_count": 62,
     "metadata": {},
     "output_type": "execute_result"
    }
   ],
   "source": [
    "# стандартное отклонение\n",
    "sigma = np.sqrt(d)\n",
    "sigma"
   ]
  },
  {
   "cell_type": "code",
   "execution_count": 63,
   "id": "368a6b82",
   "metadata": {},
   "outputs": [
    {
     "name": "stdout",
     "output_type": "stream",
     "text": [
      "Необходимо выдать - 1156 промокодов, чтобы вероятность не выполнить план в минимум 100 клиентов, была не больше 5%\n"
     ]
    }
   ],
   "source": [
    "# математическое ожидание\n",
    "#mu = 100\n",
    "# стандартное отклонение\n",
    "#sigma = np.sqrt(90)\n",
    "\n",
    "# задаём нормальное распределение с математическим ожиданием 100 \n",
    "# и стандартным отклонением np.sqrt(90)\n",
    "distr = st.norm(mu, sigma) \n",
    "\n",
    "# значение, для которого хотим найти вероятность\n",
    "x = 100\n",
    "# определяем значение x, при котором вероятность не выполнить план меньше или равна 5%\n",
    "# т.е. задаем вероятность \"справа\" 100-5=95\n",
    "ppf = 0.95\n",
    "\n",
    "# считаем вероятность получить значение, равное x или меньше \n",
    "result = distr.cdf(x)\n",
    "#result_ppf = round(distr.ppf(ppf)/p, 0).astype('int')\n",
    "result_ppf = distr.ppf(ppf)/p\n",
    "#print(result)\n",
    "print('Необходимо выдать - {:.0f}'.format(result_ppf),'промокодов, чтобы вероятность не выполнить план в минимум 100 клиентов, была не больше 5%')"
   ]
  },
  {
   "cell_type": "code",
   "execution_count": 64,
   "id": "9041dc1c",
   "metadata": {},
   "outputs": [
    {
     "data": {
      "image/png": "[encoded data removed]",
      "text/plain": [
       "<Figure size 1600x800 with 1 Axes>"
      ]
     },
     "metadata": {},
     "output_type": "display_data"
    }
   ],
   "source": [
    "#from matplotlib import pyplot as plt\n",
    "from scipy.stats import binom\n",
    "\n",
    "plt.style.use(\"seaborn\")\n",
    "#plt.style.use(\"darkgrid\")\n",
    "\n",
    "n = 1000 # количество попыток\n",
    "p = 0.1 # вероятность успеха\n",
    "\n",
    "distr = []\n",
    "\n",
    "for k in range(0, n + 1):\n",
    "    current_value = binom.pmf(k, n, p)\n",
    "    distr.append(current_value)\n",
    "    \n",
    "\n",
    "plt.figure(figsize=(20,10), dpi = 80)    \n",
    "plt.bar(range(0, n + 1), distr)\n",
    "\n",
    "plt.show();"
   ]
  },
  {
   "cell_type": "code",
   "execution_count": 65,
   "id": "9786957e",
   "metadata": {},
   "outputs": [
    {
     "data": {
      "image/png": "[encoded data removed]",
      "text/plain": [
       "<Figure size 1600x800 with 1 Axes>"
      ]
     },
     "metadata": {},
     "output_type": "display_data"
    }
   ],
   "source": [
    "#from matplotlib import pyplot as plt\n",
    "#from scipy.stats import binom\n",
    "\n",
    "plt.style.use(\"seaborn\")\n",
    "#sns.set(context=\"poster\")\n",
    "sns.set_style(\"darkgrid\", {\"grid.color\": \".1\", \"grid.linestyle\": \":\"})\n",
    "#%matplotlib inline\n",
    "\n",
    "n = 1156 # количество попыток\n",
    "p = 0.1 # вероятность успеха\n",
    "\n",
    "distr = []\n",
    "\n",
    "for k in range(0, n + 1):\n",
    "    current_value = binom.pmf(k, n, p)\n",
    "    distr.append(current_value)\n",
    "    \n",
    "\n",
    "plt.figure(figsize=(20,10), dpi = 80)    \n",
    "plt.bar(range(0, n + 1), distr)\n",
    "plt.show();"
   ]
  },
  {
   "cell_type": "markdown",
   "id": "4972d188",
   "metadata": {},
   "source": [
    "#### Вывод\n",
    "- при 1000 промокодов, вероятность получить 100 подписчиков = 50%\n",
    "- при 1156 промокодов, вероятность получить 100 подписчиков >= 95%\n"
   ]
  },
  {
   "cell_type": "markdown",
   "id": "8eb3c4c2",
   "metadata": {},
   "source": [
    "### 7.2 Отдел маркетинга рассылает клиентам push-уведомления в мобильном приложении.\n",
    "Клиенты могут открыть его или не открывать. Известно, что уведомления открывают около 40 % получивших клиентов. Отдел планирует разослать 1 млн уведомлений. **С помощью аппроксимации постройте примерный график распределения и оцените вероятность того, что уведомление откроют не более 399,5 тыс. пользователей.**\n",
    "- **Предлагаемое решение**:\n",
    "    - Эта ситуация тоже описывается биномиальным распределением. Но считать каждое отдельное значение достаточно долго. Можно воспользоваться нормальной аппроксимацией биномиального распределения и cdf() для быстрой оценки."
   ]
  },
  {
   "cell_type": "code",
   "execution_count": 66,
   "id": "f915690d",
   "metadata": {},
   "outputs": [
    {
     "data": {
      "image/png": "[encoded data removed]",
      "text/plain": [
       "<Figure size 1600x800 with 1 Axes>"
      ]
     },
     "metadata": {},
     "output_type": "display_data"
    },
    {
     "name": "stdout",
     "output_type": "stream",
     "text": [
      "Условие выполняется\n"
     ]
    }
   ],
   "source": [
    "from math import sqrt\n",
    "import matplotlib.pyplot as plt\n",
    "from scipy.stats import binom, norm\n",
    " \n",
    "# зададим функцию, которая выдаёт <num> чисел,\n",
    "# равномерно распределённых от <start> до <stop>\n",
    "# (понадобится для визуализации нормального распределения)\n",
    "def linspace(start, stop, num):\n",
    "    step = (stop - start) / (num - 1)\n",
    "    result = []\n",
    "    for i in range(num):\n",
    "        result.append(start + step * i)\n",
    "    return result\n",
    " \n",
    "# задаём параметры биномиального распределения\n",
    "n = 1000000\n",
    "p = 0.4\n",
    "\n",
    "# границы промежутка, в котором будем строить аппроксимацию -\n",
    "# от n*p минус 4 ст.отклонения бином.распределения\n",
    "# до n*p плюс 4 ст.отклонения бином.распределения\n",
    "# (там, где вероятности значений почти не равны нулю)\n",
    "left = int(n * p - 4 * sqrt(n * p * (1 - p)))\n",
    "right = int(n * p + 4 * sqrt(n * p * (1 - p)))\n",
    "\n",
    "plt.figure(figsize=(20,10), dpi = 80)  \n",
    " \n",
    "# зададим набор значений биномиальной величины на выбранном промежутке:\n",
    "# все неотрицательные целые числа от left до right\n",
    "x = list(range(max(0, left), right))\n",
    "# рисуем график биномиального распределения\n",
    "ax = plt.subplot()\n",
    "# используем синие о-образные маркеры и размер маркера 5\n",
    "ax.plot(x, binom.pmf(x, n, p), 'bo', ms=5,\n",
    "      label='вероятности биномиального распределения')\n",
    "\n",
    "# зададим мат.ожидание и ст.отклонение нормального распределения равными\n",
    "# мат.ожиданию и ст.отклонению биномиального распределения\n",
    "mu = n * p\n",
    "sigma = sqrt(n * p * (1 - p))\n",
    " \n",
    "# рисуем график нормального распределения:\n",
    "# получим список из 100 чисел от left до right\n",
    "x = linspace(left, right, 10)\n",
    "# используем красную линию ширины 3 и прозрачности 0.3\n",
    "ax.plot(x, norm.pdf(x, mu, sigma), 'r-', lw=3, alpha=0.3, label='плотность вероятности нормального распределения')\n",
    " \n",
    "# зададим подписи по оси x в пределах ± 3 ст.отклонений от мат.ожидания\n",
    "# (последний аргумент в методе range - интервал между подписями)\n",
    "x_ticks = list(range(int(mu - 3 * sigma), int(mu + 3 * sigma), 300))\n",
    "ax.set_xticks(x_ticks)\n",
    "\n",
    "# настраиваем оптимальное расположение легенды и выводим график\n",
    "ax.legend(loc='best')\n",
    "plt.show()\n",
    "\n",
    "# выводим, выполняется ли наше условие аппроксимации:\n",
    "# лежит ли mu ± 3 sigma в промежутке от 0 до n:\n",
    "if (mu - (3 * sigma) >= 0) and ((mu + (3 * sigma) <= n)):\n",
    "    print('Условие выполняется')\n",
    "else:\n",
    "    print('Условие не выполняется')"
   ]
  },
  {
   "cell_type": "code",
   "execution_count": 67,
   "id": "e8fe15f4",
   "metadata": {},
   "outputs": [
    {
     "name": "stdout",
     "output_type": "stream",
     "text": [
      "0.15371708296369768\n"
     ]
    }
   ],
   "source": [
    "# задаём параметры биномиального распределения\n",
    "n = 1000000\n",
    "p = 0.4\n",
    "\n",
    "# зададим мат.ожидание и ст.отклонение нормального распределения равными\n",
    "# мат.ожиданию и ст.отклонению биномиального распределения\n",
    "mu = n * p\n",
    "sigma = np.sqrt(n * p * (1 - p))\n",
    "\n",
    "# задаём нормальное распределение\n",
    "distr = st.norm(mu, sigma) \n",
    "\n",
    "# считаем вероятность хвоста слеава от 399500 (не более, это <=)\n",
    "result = distr.cdf(399500)\n",
    "print(result)"
   ]
  },
  {
   "cell_type": "markdown",
   "id": "2e9a8a71",
   "metadata": {},
   "source": [
    "#### Вывод:\n",
    "Вероятность того, что уведомление откроют не более 399500 (т.е <= 399500) равна 15%, значит вероятность того, что более 399500 раз 100-15=85%"
   ]
  },
  {
   "cell_type": "markdown",
   "id": "9b8f17eb",
   "metadata": {},
   "source": [
    "\n",
    "* **Аппроксимация нормальным распределением**: Используем нормальное распределение для аппроксимации биномиального, так как количество экспериментов (n) велико, и вероятность успеха (p) не очень мала или велика. Это соответствует правилу, что np и n(1-p) должны быть больше 10 для аппроксимации биномиального распределения нормальным.\n",
    "\n",
    "* **График распределения**: График, показывает биномиальное распределение и его нормальную аппроксимацию. Как способ визуализировать распределение вероятностей.\n",
    "\n",
    "* **Расчет вероятности**: Для расчета вероятности того, что уведомление откроют не более 399500 пользователей, использовал функцию распределения (CDF) нормального распределения."
   ]
  },
  {
   "cell_type": "code",
   "execution_count": null,
   "id": "7c0e50eb",
   "metadata": {},
   "outputs": [],
   "source": []
  },
  {
   "cell_type": "code",
   "execution_count": null,
   "id": "fe11e114",
   "metadata": {},
   "outputs": [],
   "source": []
  },
  {
   "cell_type": "code",
   "execution_count": null,
   "id": "b479fdf6",
   "metadata": {},
   "outputs": [],
   "source": []
  }
 ],
 "metadata": {
  "ExecuteTimeLog": [
   {
    "duration": 1219,
    "start_time": "2024-01-22T00:33:53.733Z"
   },
   {
    "duration": 182,
    "start_time": "2024-01-22T00:33:54.954Z"
   },
   {
    "duration": 12,
    "start_time": "2024-01-22T00:33:55.138Z"
   },
   {
    "duration": 6,
    "start_time": "2024-01-22T00:33:55.152Z"
   },
   {
    "duration": 10,
    "start_time": "2024-01-22T00:33:55.159Z"
   },
   {
    "duration": 4,
    "start_time": "2024-01-22T00:33:55.171Z"
   },
   {
    "duration": 17,
    "start_time": "2024-01-22T00:33:55.177Z"
   },
   {
    "duration": 7,
    "start_time": "2024-01-22T00:33:55.196Z"
   },
   {
    "duration": 5,
    "start_time": "2024-01-22T00:33:55.204Z"
   },
   {
    "duration": 19,
    "start_time": "2024-01-22T00:33:55.210Z"
   },
   {
    "duration": 24,
    "start_time": "2024-01-22T00:33:55.230Z"
   },
   {
    "duration": 24,
    "start_time": "2024-01-22T00:33:55.255Z"
   },
   {
    "duration": 210,
    "start_time": "2024-01-22T00:33:55.280Z"
   },
   {
    "duration": 9,
    "start_time": "2024-01-22T00:33:55.493Z"
   },
   {
    "duration": 117,
    "start_time": "2024-01-22T00:33:55.503Z"
   },
   {
    "duration": 10,
    "start_time": "2024-01-22T00:33:55.621Z"
   },
   {
    "duration": 358,
    "start_time": "2024-01-22T00:33:55.632Z"
   },
   {
    "duration": 14,
    "start_time": "2024-01-22T00:33:55.991Z"
   },
   {
    "duration": 284,
    "start_time": "2024-01-22T00:33:56.006Z"
   },
   {
    "duration": 13,
    "start_time": "2024-01-22T00:33:56.291Z"
   },
   {
    "duration": 286,
    "start_time": "2024-01-22T00:33:56.305Z"
   },
   {
    "duration": 7,
    "start_time": "2024-01-22T00:33:56.592Z"
   },
   {
    "duration": 321,
    "start_time": "2024-01-22T00:33:56.601Z"
   },
   {
    "duration": 874,
    "start_time": "2024-01-22T00:33:56.924Z"
   },
   {
    "duration": 10,
    "start_time": "2024-01-22T00:33:57.799Z"
   },
   {
    "duration": 9,
    "start_time": "2024-01-22T00:33:57.810Z"
   },
   {
    "duration": 28,
    "start_time": "2024-01-22T00:33:57.820Z"
   },
   {
    "duration": 12,
    "start_time": "2024-01-22T00:33:57.850Z"
   },
   {
    "duration": 6,
    "start_time": "2024-01-22T00:33:57.863Z"
   },
   {
    "duration": 5,
    "start_time": "2024-01-22T00:33:57.870Z"
   },
   {
    "duration": 5,
    "start_time": "2024-01-22T00:33:57.877Z"
   },
   {
    "duration": 933,
    "start_time": "2024-01-22T00:33:57.883Z"
   },
   {
    "duration": 1036,
    "start_time": "2024-01-22T00:33:58.817Z"
   },
   {
    "duration": 17,
    "start_time": "2024-01-22T00:33:59.854Z"
   },
   {
    "duration": 13,
    "start_time": "2024-01-22T00:33:59.872Z"
   },
   {
    "duration": 7,
    "start_time": "2024-01-22T00:33:59.886Z"
   },
   {
    "duration": 3,
    "start_time": "2024-01-22T00:33:59.894Z"
   },
   {
    "duration": 109,
    "start_time": "2024-01-22T00:33:59.898Z"
   },
   {
    "duration": 8,
    "start_time": "2024-01-22T00:34:00.009Z"
   },
   {
    "duration": 78,
    "start_time": "2024-01-22T00:34:00.019Z"
   },
   {
    "duration": 41,
    "start_time": "2024-01-22T00:34:00.100Z"
   },
   {
    "duration": 74,
    "start_time": "2024-01-22T00:34:00.143Z"
   },
   {
    "duration": 814,
    "start_time": "2024-01-22T00:34:00.218Z"
   },
   {
    "duration": 8,
    "start_time": "2024-01-22T00:34:01.033Z"
   },
   {
    "duration": 107,
    "start_time": "2024-01-22T00:34:01.053Z"
   },
   {
    "duration": 63,
    "start_time": "2024-01-22T00:34:01.162Z"
   },
   {
    "duration": 39,
    "start_time": "2024-01-22T00:34:01.227Z"
   },
   {
    "duration": 43,
    "start_time": "2024-01-22T00:34:01.267Z"
   },
   {
    "duration": 111,
    "start_time": "2024-01-22T00:34:01.311Z"
   },
   {
    "duration": 165,
    "start_time": "2024-01-22T00:34:01.423Z"
   },
   {
    "duration": 11,
    "start_time": "2024-01-22T00:43:38.382Z"
   },
   {
    "duration": 1456,
    "start_time": "2024-01-22T11:50:28.049Z"
   },
   {
    "duration": 7,
    "start_time": "2024-01-22T11:50:34.209Z"
   },
   {
    "duration": 192,
    "start_time": "2024-01-22T11:50:41.726Z"
   },
   {
    "duration": 15,
    "start_time": "2024-01-22T11:50:45.176Z"
   },
   {
    "duration": 7,
    "start_time": "2024-01-22T11:50:48.886Z"
   },
   {
    "duration": 8,
    "start_time": "2024-01-22T11:50:49.642Z"
   },
   {
    "duration": 4,
    "start_time": "2024-01-22T11:59:10.513Z"
   },
   {
    "duration": 15,
    "start_time": "2024-01-22T11:59:11.915Z"
   },
   {
    "duration": 7,
    "start_time": "2024-01-22T11:59:13.783Z"
   },
   {
    "duration": 6,
    "start_time": "2024-01-22T11:59:14.453Z"
   },
   {
    "duration": 18,
    "start_time": "2024-01-22T11:59:16.598Z"
   },
   {
    "duration": 5,
    "start_time": "2024-01-22T11:59:20.462Z"
   },
   {
    "duration": 14,
    "start_time": "2024-01-22T11:59:24.980Z"
   },
   {
    "duration": 41,
    "start_time": "2024-01-22T12:00:06.340Z"
   },
   {
    "duration": 7,
    "start_time": "2024-01-22T12:00:43.720Z"
   },
   {
    "duration": 7,
    "start_time": "2024-01-22T12:01:01.414Z"
   },
   {
    "duration": 10,
    "start_time": "2024-01-22T12:01:41.154Z"
   },
   {
    "duration": 8,
    "start_time": "2024-01-22T12:09:26.533Z"
   },
   {
    "duration": 288,
    "start_time": "2024-01-22T12:09:27.519Z"
   },
   {
    "duration": 260,
    "start_time": "2024-01-22T12:15:15.653Z"
   },
   {
    "duration": 16,
    "start_time": "2024-01-22T12:15:19.440Z"
   },
   {
    "duration": 153,
    "start_time": "2024-01-22T12:15:21.788Z"
   },
   {
    "duration": 14,
    "start_time": "2024-01-22T12:15:25.038Z"
   },
   {
    "duration": 445,
    "start_time": "2024-01-22T12:15:27.644Z"
   },
   {
    "duration": 176,
    "start_time": "2024-01-22T12:23:03.282Z"
   },
   {
    "duration": 14,
    "start_time": "2024-01-22T12:23:10.630Z"
   },
   {
    "duration": 544,
    "start_time": "2024-01-22T12:23:12.316Z"
   },
   {
    "duration": 19,
    "start_time": "2024-01-22T12:23:17.209Z"
   },
   {
    "duration": 381,
    "start_time": "2024-01-22T12:23:18.842Z"
   },
   {
    "duration": 25,
    "start_time": "2024-01-22T12:23:30.217Z"
   },
   {
    "duration": 375,
    "start_time": "2024-01-22T12:23:31.325Z"
   },
   {
    "duration": 11,
    "start_time": "2024-01-22T12:23:33.755Z"
   },
   {
    "duration": 360,
    "start_time": "2024-01-22T12:23:34.240Z"
   },
   {
    "duration": 1153,
    "start_time": "2024-01-22T12:23:35.765Z"
   },
   {
    "duration": 12,
    "start_time": "2024-01-22T12:23:55.375Z"
   },
   {
    "duration": 11,
    "start_time": "2024-01-22T12:23:55.678Z"
   },
   {
    "duration": 23,
    "start_time": "2024-01-22T12:23:56.131Z"
   },
   {
    "duration": 17,
    "start_time": "2024-01-22T12:23:58.147Z"
   },
   {
    "duration": 5,
    "start_time": "2024-01-22T12:25:01.040Z"
   },
   {
    "duration": 4,
    "start_time": "2024-01-22T12:25:19.341Z"
   },
   {
    "duration": 4,
    "start_time": "2024-01-22T12:28:42.963Z"
   },
   {
    "duration": 4,
    "start_time": "2024-01-22T12:28:46.813Z"
   },
   {
    "duration": 8,
    "start_time": "2024-01-22T12:28:59.930Z"
   },
   {
    "duration": 6,
    "start_time": "2024-01-22T12:29:24.372Z"
   },
   {
    "duration": 1300,
    "start_time": "2024-01-22T17:59:04.624Z"
   },
   {
    "duration": 193,
    "start_time": "2024-01-22T17:59:05.927Z"
   },
   {
    "duration": 14,
    "start_time": "2024-01-22T17:59:06.122Z"
   },
   {
    "duration": 49,
    "start_time": "2024-01-22T17:59:06.138Z"
   },
   {
    "duration": 13,
    "start_time": "2024-01-22T17:59:06.189Z"
   },
   {
    "duration": 4,
    "start_time": "2024-01-22T17:59:06.203Z"
   },
   {
    "duration": 26,
    "start_time": "2024-01-22T17:59:06.208Z"
   },
   {
    "duration": 10,
    "start_time": "2024-01-22T17:59:06.236Z"
   },
   {
    "duration": 8,
    "start_time": "2024-01-22T17:59:06.248Z"
   },
   {
    "duration": 18,
    "start_time": "2024-01-22T17:59:06.261Z"
   },
   {
    "duration": 6,
    "start_time": "2024-01-22T17:59:06.281Z"
   },
   {
    "duration": 35,
    "start_time": "2024-01-22T17:59:06.288Z"
   },
   {
    "duration": 6,
    "start_time": "2024-01-22T17:59:06.325Z"
   },
   {
    "duration": 9,
    "start_time": "2024-01-22T17:59:06.333Z"
   },
   {
    "duration": 12,
    "start_time": "2024-01-22T17:59:06.344Z"
   },
   {
    "duration": 284,
    "start_time": "2024-01-22T17:59:06.358Z"
   },
   {
    "duration": 13,
    "start_time": "2024-01-22T17:59:06.644Z"
   },
   {
    "duration": 167,
    "start_time": "2024-01-22T17:59:06.659Z"
   },
   {
    "duration": 11,
    "start_time": "2024-01-22T17:59:06.828Z"
   },
   {
    "duration": 422,
    "start_time": "2024-01-22T17:59:06.841Z"
   },
   {
    "duration": 17,
    "start_time": "2024-01-22T17:59:07.265Z"
   },
   {
    "duration": 375,
    "start_time": "2024-01-22T17:59:07.284Z"
   },
   {
    "duration": 16,
    "start_time": "2024-01-22T17:59:07.660Z"
   },
   {
    "duration": 350,
    "start_time": "2024-01-22T17:59:07.677Z"
   },
   {
    "duration": 11,
    "start_time": "2024-01-22T17:59:08.029Z"
   },
   {
    "duration": 393,
    "start_time": "2024-01-22T17:59:08.042Z"
   },
   {
    "duration": 1036,
    "start_time": "2024-01-22T17:59:08.436Z"
   },
   {
    "duration": 13,
    "start_time": "2024-01-22T17:59:09.477Z"
   },
   {
    "duration": 10,
    "start_time": "2024-01-22T17:59:09.492Z"
   },
   {
    "duration": 33,
    "start_time": "2024-01-22T17:59:09.504Z"
   },
   {
    "duration": 17,
    "start_time": "2024-01-22T17:59:09.539Z"
   },
   {
    "duration": 4,
    "start_time": "2024-01-22T17:59:09.557Z"
   },
   {
    "duration": 32,
    "start_time": "2024-01-22T17:59:09.563Z"
   },
   {
    "duration": 13,
    "start_time": "2024-01-22T17:59:09.597Z"
   },
   {
    "duration": 14,
    "start_time": "2024-01-22T17:59:09.612Z"
   },
   {
    "duration": 7,
    "start_time": "2024-01-22T17:59:09.627Z"
   },
   {
    "duration": 20,
    "start_time": "2024-01-22T17:59:09.636Z"
   },
   {
    "duration": 11,
    "start_time": "2024-01-22T17:59:09.658Z"
   },
   {
    "duration": 1207,
    "start_time": "2024-01-22T17:59:09.670Z"
   },
   {
    "duration": 1159,
    "start_time": "2024-01-22T17:59:10.878Z"
   },
   {
    "duration": 23,
    "start_time": "2024-01-22T17:59:12.039Z"
   },
   {
    "duration": 16,
    "start_time": "2024-01-22T17:59:12.063Z"
   },
   {
    "duration": 10,
    "start_time": "2024-01-22T17:59:12.080Z"
   },
   {
    "duration": 33,
    "start_time": "2024-01-22T17:59:12.092Z"
   },
   {
    "duration": 131,
    "start_time": "2024-01-22T17:59:12.127Z"
   },
   {
    "duration": 10,
    "start_time": "2024-01-22T17:59:12.260Z"
   },
   {
    "duration": 6,
    "start_time": "2024-01-22T17:59:12.272Z"
   },
   {
    "duration": 9,
    "start_time": "2024-01-22T17:59:12.280Z"
   },
   {
    "duration": 19,
    "start_time": "2024-01-22T17:59:12.290Z"
   },
   {
    "duration": 868,
    "start_time": "2024-01-22T17:59:12.323Z"
   },
   {
    "duration": 10,
    "start_time": "2024-01-22T17:59:13.193Z"
   },
   {
    "duration": 21,
    "start_time": "2024-01-22T17:59:13.204Z"
   },
   {
    "duration": 12,
    "start_time": "2024-01-22T17:59:13.227Z"
   },
   {
    "duration": 5,
    "start_time": "2024-01-22T17:59:13.241Z"
   },
   {
    "duration": 9,
    "start_time": "2024-01-22T17:59:13.248Z"
   },
   {
    "duration": 8,
    "start_time": "2024-01-22T17:59:13.259Z"
   },
   {
    "duration": 18,
    "start_time": "2024-01-22T17:59:13.268Z"
   },
   {
    "duration": 1447,
    "start_time": "2024-01-24T06:02:26.769Z"
   },
   {
    "duration": 195,
    "start_time": "2024-01-24T06:02:28.218Z"
   },
   {
    "duration": 14,
    "start_time": "2024-01-24T06:02:28.415Z"
   },
   {
    "duration": 12,
    "start_time": "2024-01-24T06:02:28.431Z"
   },
   {
    "duration": 28,
    "start_time": "2024-01-24T06:02:28.445Z"
   },
   {
    "duration": 18,
    "start_time": "2024-01-24T06:02:28.475Z"
   },
   {
    "duration": 21,
    "start_time": "2024-01-24T06:02:28.496Z"
   },
   {
    "duration": 17,
    "start_time": "2024-01-24T06:02:28.519Z"
   },
   {
    "duration": 27,
    "start_time": "2024-01-24T06:02:28.537Z"
   },
   {
    "duration": 51,
    "start_time": "2024-01-24T06:02:28.567Z"
   },
   {
    "duration": 5,
    "start_time": "2024-01-24T06:02:28.621Z"
   },
   {
    "duration": 14,
    "start_time": "2024-01-24T06:02:28.628Z"
   },
   {
    "duration": 11,
    "start_time": "2024-01-24T06:02:28.643Z"
   },
   {
    "duration": 22,
    "start_time": "2024-01-24T06:02:28.656Z"
   },
   {
    "duration": 8,
    "start_time": "2024-01-24T06:02:28.680Z"
   },
   {
    "duration": 313,
    "start_time": "2024-01-24T06:02:28.690Z"
   },
   {
    "duration": 18,
    "start_time": "2024-01-24T06:02:29.005Z"
   },
   {
    "duration": 219,
    "start_time": "2024-01-24T06:02:29.026Z"
   },
   {
    "duration": 15,
    "start_time": "2024-01-24T06:02:29.248Z"
   },
   {
    "duration": 486,
    "start_time": "2024-01-24T06:02:29.265Z"
   },
   {
    "duration": 18,
    "start_time": "2024-01-24T06:02:29.753Z"
   },
   {
    "duration": 389,
    "start_time": "2024-01-24T06:02:29.783Z"
   },
   {
    "duration": 34,
    "start_time": "2024-01-24T06:02:30.174Z"
   },
   {
    "duration": 502,
    "start_time": "2024-01-24T06:02:30.209Z"
   },
   {
    "duration": 9,
    "start_time": "2024-01-24T06:02:30.712Z"
   },
   {
    "duration": 625,
    "start_time": "2024-01-24T06:02:30.723Z"
   },
   {
    "duration": 1234,
    "start_time": "2024-01-24T06:02:31.349Z"
   },
   {
    "duration": 23,
    "start_time": "2024-01-24T06:02:32.592Z"
   },
   {
    "duration": 47,
    "start_time": "2024-01-24T06:02:32.617Z"
   },
   {
    "duration": 29,
    "start_time": "2024-01-24T06:02:32.666Z"
   },
   {
    "duration": 22,
    "start_time": "2024-01-24T06:02:32.697Z"
   },
   {
    "duration": 4,
    "start_time": "2024-01-24T06:02:32.721Z"
   },
   {
    "duration": 23,
    "start_time": "2024-01-24T06:02:32.727Z"
   },
   {
    "duration": 31,
    "start_time": "2024-01-24T06:02:32.752Z"
   },
   {
    "duration": 34,
    "start_time": "2024-01-24T06:02:32.785Z"
   },
   {
    "duration": 37,
    "start_time": "2024-01-24T06:02:32.821Z"
   },
   {
    "duration": 37,
    "start_time": "2024-01-24T06:02:32.860Z"
   },
   {
    "duration": 30,
    "start_time": "2024-01-24T06:02:32.899Z"
   },
   {
    "duration": 1220,
    "start_time": "2024-01-24T06:02:32.931Z"
   },
   {
    "duration": 1191,
    "start_time": "2024-01-24T06:02:34.153Z"
   },
   {
    "duration": 22,
    "start_time": "2024-01-24T06:02:35.346Z"
   },
   {
    "duration": 29,
    "start_time": "2024-01-24T06:02:35.370Z"
   },
   {
    "duration": 10,
    "start_time": "2024-01-24T06:02:35.401Z"
   },
   {
    "duration": 5,
    "start_time": "2024-01-24T06:02:35.413Z"
   },
   {
    "duration": 153,
    "start_time": "2024-01-24T06:02:35.420Z"
   },
   {
    "duration": 18,
    "start_time": "2024-01-24T06:02:35.575Z"
   },
   {
    "duration": 9,
    "start_time": "2024-01-24T06:02:35.596Z"
   },
   {
    "duration": 8,
    "start_time": "2024-01-24T06:02:35.607Z"
   },
   {
    "duration": 34,
    "start_time": "2024-01-24T06:02:35.616Z"
   },
   {
    "duration": 974,
    "start_time": "2024-01-24T06:02:35.652Z"
   },
   {
    "duration": 9,
    "start_time": "2024-01-24T06:02:36.628Z"
   },
   {
    "duration": 8,
    "start_time": "2024-01-24T06:02:36.639Z"
   },
   {
    "duration": 35,
    "start_time": "2024-01-24T06:02:36.649Z"
   },
   {
    "duration": 6,
    "start_time": "2024-01-24T06:02:36.687Z"
   },
   {
    "duration": 16,
    "start_time": "2024-01-24T06:02:36.696Z"
   },
   {
    "duration": 10,
    "start_time": "2024-01-24T06:02:36.714Z"
   },
   {
    "duration": 15,
    "start_time": "2024-01-24T06:02:36.725Z"
   },
   {
    "duration": 6,
    "start_time": "2024-01-24T06:02:36.742Z"
   },
   {
    "duration": 7,
    "start_time": "2024-01-24T06:02:36.750Z"
   },
   {
    "duration": 9,
    "start_time": "2024-01-24T06:02:36.782Z"
   },
   {
    "duration": 5,
    "start_time": "2024-01-24T06:02:36.793Z"
   },
   {
    "duration": 9,
    "start_time": "2024-01-24T06:02:36.800Z"
   },
   {
    "duration": 10,
    "start_time": "2024-01-24T06:02:36.811Z"
   },
   {
    "duration": 156,
    "start_time": "2024-01-24T06:02:36.823Z"
   },
   {
    "duration": 0,
    "start_time": "2024-01-24T06:02:36.982Z"
   },
   {
    "duration": 0,
    "start_time": "2024-01-24T06:02:36.982Z"
   },
   {
    "duration": 0,
    "start_time": "2024-01-24T06:02:36.983Z"
   },
   {
    "duration": 1426,
    "start_time": "2024-01-24T09:36:25.553Z"
   },
   {
    "duration": 193,
    "start_time": "2024-01-24T09:36:26.981Z"
   },
   {
    "duration": 12,
    "start_time": "2024-01-24T09:36:27.176Z"
   },
   {
    "duration": 7,
    "start_time": "2024-01-24T09:36:27.189Z"
   },
   {
    "duration": 8,
    "start_time": "2024-01-24T09:36:27.198Z"
   },
   {
    "duration": 5,
    "start_time": "2024-01-24T09:36:27.208Z"
   },
   {
    "duration": 17,
    "start_time": "2024-01-24T09:36:27.215Z"
   },
   {
    "duration": 6,
    "start_time": "2024-01-24T09:36:27.233Z"
   },
   {
    "duration": 28,
    "start_time": "2024-01-24T09:36:27.241Z"
   },
   {
    "duration": 16,
    "start_time": "2024-01-24T09:36:27.270Z"
   },
   {
    "duration": 4,
    "start_time": "2024-01-24T09:36:27.288Z"
   },
   {
    "duration": 5,
    "start_time": "2024-01-24T09:36:27.294Z"
   },
   {
    "duration": 6,
    "start_time": "2024-01-24T09:36:27.300Z"
   },
   {
    "duration": 9,
    "start_time": "2024-01-24T09:36:27.309Z"
   },
   {
    "duration": 46,
    "start_time": "2024-01-24T09:36:27.320Z"
   },
   {
    "duration": 252,
    "start_time": "2024-01-24T09:36:27.368Z"
   },
   {
    "duration": 10,
    "start_time": "2024-01-24T09:36:27.622Z"
   },
   {
    "duration": 137,
    "start_time": "2024-01-24T09:36:27.633Z"
   },
   {
    "duration": 12,
    "start_time": "2024-01-24T09:36:27.771Z"
   },
   {
    "duration": 381,
    "start_time": "2024-01-24T09:36:27.784Z"
   },
   {
    "duration": 15,
    "start_time": "2024-01-24T09:36:28.166Z"
   },
   {
    "duration": 308,
    "start_time": "2024-01-24T09:36:28.182Z"
   },
   {
    "duration": 14,
    "start_time": "2024-01-24T09:36:28.491Z"
   },
   {
    "duration": 335,
    "start_time": "2024-01-24T09:36:28.506Z"
   },
   {
    "duration": 8,
    "start_time": "2024-01-24T09:36:28.842Z"
   },
   {
    "duration": 370,
    "start_time": "2024-01-24T09:36:28.852Z"
   },
   {
    "duration": 952,
    "start_time": "2024-01-24T09:36:29.223Z"
   },
   {
    "duration": 10,
    "start_time": "2024-01-24T09:36:30.177Z"
   },
   {
    "duration": 64,
    "start_time": "2024-01-24T09:36:30.189Z"
   },
   {
    "duration": 33,
    "start_time": "2024-01-24T09:36:30.255Z"
   },
   {
    "duration": 87,
    "start_time": "2024-01-24T09:36:30.290Z"
   },
   {
    "duration": 40,
    "start_time": "2024-01-24T09:36:30.378Z"
   },
   {
    "duration": 46,
    "start_time": "2024-01-24T09:36:30.420Z"
   },
   {
    "duration": 47,
    "start_time": "2024-01-24T09:36:30.468Z"
   },
   {
    "duration": 56,
    "start_time": "2024-01-24T09:36:30.517Z"
   },
   {
    "duration": 126,
    "start_time": "2024-01-24T09:36:30.575Z"
   },
   {
    "duration": 50,
    "start_time": "2024-01-24T09:36:30.703Z"
   },
   {
    "duration": 59,
    "start_time": "2024-01-24T09:36:30.755Z"
   },
   {
    "duration": 1081,
    "start_time": "2024-01-24T09:36:30.815Z"
   },
   {
    "duration": 1028,
    "start_time": "2024-01-24T09:36:31.898Z"
   },
   {
    "duration": 20,
    "start_time": "2024-01-24T09:36:32.932Z"
   },
   {
    "duration": 15,
    "start_time": "2024-01-24T09:36:32.965Z"
   },
   {
    "duration": 28,
    "start_time": "2024-01-24T09:36:32.982Z"
   },
   {
    "duration": 29,
    "start_time": "2024-01-24T09:36:33.012Z"
   },
   {
    "duration": 143,
    "start_time": "2024-01-24T09:36:33.043Z"
   },
   {
    "duration": 9,
    "start_time": "2024-01-24T09:36:33.188Z"
   },
   {
    "duration": 41,
    "start_time": "2024-01-24T09:36:33.198Z"
   },
   {
    "duration": 30,
    "start_time": "2024-01-24T09:36:33.241Z"
   },
   {
    "duration": 38,
    "start_time": "2024-01-24T09:36:33.273Z"
   },
   {
    "duration": 877,
    "start_time": "2024-01-24T09:36:33.312Z"
   },
   {
    "duration": 7,
    "start_time": "2024-01-24T09:36:34.191Z"
   },
   {
    "duration": 35,
    "start_time": "2024-01-24T09:36:34.200Z"
   },
   {
    "duration": 22,
    "start_time": "2024-01-24T09:36:34.236Z"
   },
   {
    "duration": 14,
    "start_time": "2024-01-24T09:36:34.259Z"
   },
   {
    "duration": 7,
    "start_time": "2024-01-24T09:36:34.274Z"
   },
   {
    "duration": 6,
    "start_time": "2024-01-24T09:36:34.283Z"
   },
   {
    "duration": 37,
    "start_time": "2024-01-24T09:36:34.290Z"
   },
   {
    "duration": 3,
    "start_time": "2024-01-24T09:36:34.329Z"
   },
   {
    "duration": 19,
    "start_time": "2024-01-24T09:36:34.333Z"
   },
   {
    "duration": 9,
    "start_time": "2024-01-24T09:36:34.353Z"
   },
   {
    "duration": 6,
    "start_time": "2024-01-24T09:36:34.364Z"
   },
   {
    "duration": 18,
    "start_time": "2024-01-24T09:36:34.371Z"
   },
   {
    "duration": 8,
    "start_time": "2024-01-24T09:36:34.391Z"
   },
   {
    "duration": 166,
    "start_time": "2024-01-24T09:36:48.926Z"
   },
   {
    "duration": 10,
    "start_time": "2024-01-24T09:37:09.231Z"
   },
   {
    "duration": 1674,
    "start_time": "2024-01-24T09:37:25.813Z"
   },
   {
    "duration": 1726,
    "start_time": "2024-01-24T09:37:41.847Z"
   },
   {
    "duration": 57,
    "start_time": "2024-01-24T09:37:57.210Z"
   },
   {
    "duration": 74,
    "start_time": "2024-01-24T09:38:03.262Z"
   },
   {
    "duration": 1667,
    "start_time": "2024-01-24T09:38:14.315Z"
   },
   {
    "duration": 1655,
    "start_time": "2024-01-24T09:38:20.821Z"
   },
   {
    "duration": 14,
    "start_time": "2024-01-24T09:39:13.136Z"
   },
   {
    "duration": 1640,
    "start_time": "2024-01-24T09:40:09.739Z"
   },
   {
    "duration": 248,
    "start_time": "2024-01-24T09:40:23.449Z"
   },
   {
    "duration": 1690,
    "start_time": "2024-01-24T09:40:34.151Z"
   },
   {
    "duration": 1662,
    "start_time": "2024-01-24T09:41:02.240Z"
   },
   {
    "duration": 1664,
    "start_time": "2024-01-24T09:41:10.442Z"
   },
   {
    "duration": 1862,
    "start_time": "2024-01-24T09:41:18.755Z"
   },
   {
    "duration": 1738,
    "start_time": "2024-01-24T09:42:15.963Z"
   },
   {
    "duration": 1730,
    "start_time": "2024-01-24T09:43:05.083Z"
   },
   {
    "duration": 1692,
    "start_time": "2024-01-24T09:43:43.892Z"
   },
   {
    "duration": 1696,
    "start_time": "2024-01-24T09:43:50.489Z"
   },
   {
    "duration": 1708,
    "start_time": "2024-01-24T09:44:07.094Z"
   },
   {
    "duration": 1692,
    "start_time": "2024-01-24T09:44:22.521Z"
   },
   {
    "duration": 1734,
    "start_time": "2024-01-24T09:44:32.876Z"
   },
   {
    "duration": 1718,
    "start_time": "2024-01-24T09:44:46.926Z"
   },
   {
    "duration": 1784,
    "start_time": "2024-01-24T09:45:02.162Z"
   },
   {
    "duration": 1692,
    "start_time": "2024-01-24T09:45:27.977Z"
   },
   {
    "duration": 1665,
    "start_time": "2024-01-24T09:46:10.354Z"
   },
   {
    "duration": 1669,
    "start_time": "2024-01-24T09:46:17.167Z"
   },
   {
    "duration": 1644,
    "start_time": "2024-01-24T09:46:29.930Z"
   },
   {
    "duration": 1720,
    "start_time": "2024-01-24T09:46:53.119Z"
   },
   {
    "duration": 1665,
    "start_time": "2024-01-24T09:47:12.523Z"
   },
   {
    "duration": 1732,
    "start_time": "2024-01-24T09:47:29.307Z"
   },
   {
    "duration": 1679,
    "start_time": "2024-01-24T09:47:44.631Z"
   },
   {
    "duration": 1702,
    "start_time": "2024-01-24T09:48:18.487Z"
   },
   {
    "duration": 1723,
    "start_time": "2024-01-24T09:48:27.507Z"
   },
   {
    "duration": 1759,
    "start_time": "2024-01-24T09:48:45.130Z"
   },
   {
    "duration": 1719,
    "start_time": "2024-01-24T09:49:10.428Z"
   },
   {
    "duration": 54,
    "start_time": "2024-01-24T09:49:50.412Z"
   },
   {
    "duration": 1662,
    "start_time": "2024-01-24T09:50:16.856Z"
   },
   {
    "duration": 1912,
    "start_time": "2024-01-24T09:50:28.918Z"
   },
   {
    "duration": 1691,
    "start_time": "2024-01-24T09:51:00.410Z"
   },
   {
    "duration": 1733,
    "start_time": "2024-01-24T09:51:13.511Z"
   },
   {
    "duration": 1672,
    "start_time": "2024-01-24T09:51:52.837Z"
   },
   {
    "duration": 1665,
    "start_time": "2024-01-24T09:52:08.985Z"
   },
   {
    "duration": 1686,
    "start_time": "2024-01-24T09:52:18.266Z"
   },
   {
    "duration": 1935,
    "start_time": "2024-01-24T09:52:33.847Z"
   },
   {
    "duration": 1951,
    "start_time": "2024-01-24T09:52:43.307Z"
   },
   {
    "duration": 290,
    "start_time": "2024-01-24T09:53:33.109Z"
   },
   {
    "duration": 6,
    "start_time": "2024-01-24T09:53:36.306Z"
   },
   {
    "duration": 7,
    "start_time": "2024-01-24T09:53:50.075Z"
   },
   {
    "duration": 67,
    "start_time": "2024-01-24T09:53:50.084Z"
   },
   {
    "duration": 7,
    "start_time": "2024-01-24T09:53:50.153Z"
   },
   {
    "duration": 18,
    "start_time": "2024-01-24T09:53:50.162Z"
   },
   {
    "duration": 19,
    "start_time": "2024-01-24T09:53:50.181Z"
   },
   {
    "duration": 13,
    "start_time": "2024-01-24T09:53:50.202Z"
   },
   {
    "duration": 19,
    "start_time": "2024-01-24T09:53:50.217Z"
   },
   {
    "duration": 6,
    "start_time": "2024-01-24T09:53:50.237Z"
   },
   {
    "duration": 5,
    "start_time": "2024-01-24T09:53:50.245Z"
   },
   {
    "duration": 19,
    "start_time": "2024-01-24T09:53:50.253Z"
   },
   {
    "duration": 4,
    "start_time": "2024-01-24T09:53:50.274Z"
   },
   {
    "duration": 9,
    "start_time": "2024-01-24T09:53:50.280Z"
   },
   {
    "duration": 13,
    "start_time": "2024-01-24T09:53:50.290Z"
   },
   {
    "duration": 11,
    "start_time": "2024-01-24T09:53:50.304Z"
   },
   {
    "duration": 17,
    "start_time": "2024-01-24T09:53:50.316Z"
   },
   {
    "duration": 239,
    "start_time": "2024-01-24T09:53:50.334Z"
   },
   {
    "duration": 12,
    "start_time": "2024-01-24T09:53:50.575Z"
   },
   {
    "duration": 160,
    "start_time": "2024-01-24T09:53:50.589Z"
   },
   {
    "duration": 19,
    "start_time": "2024-01-24T09:53:50.750Z"
   },
   {
    "duration": 575,
    "start_time": "2024-01-24T09:53:50.770Z"
   },
   {
    "duration": 24,
    "start_time": "2024-01-24T09:53:51.347Z"
   },
   {
    "duration": 373,
    "start_time": "2024-01-24T09:53:51.373Z"
   },
   {
    "duration": 24,
    "start_time": "2024-01-24T09:53:51.748Z"
   },
   {
    "duration": 381,
    "start_time": "2024-01-24T09:53:51.774Z"
   },
   {
    "duration": 14,
    "start_time": "2024-01-24T09:53:52.157Z"
   },
   {
    "duration": 289,
    "start_time": "2024-01-24T09:53:52.173Z"
   },
   {
    "duration": 955,
    "start_time": "2024-01-24T09:53:52.466Z"
   },
   {
    "duration": 11,
    "start_time": "2024-01-24T09:53:53.425Z"
   },
   {
    "duration": 19,
    "start_time": "2024-01-24T09:53:53.437Z"
   },
   {
    "duration": 19,
    "start_time": "2024-01-24T09:53:53.458Z"
   },
   {
    "duration": 14,
    "start_time": "2024-01-24T09:53:53.479Z"
   },
   {
    "duration": 6,
    "start_time": "2024-01-24T09:53:53.495Z"
   },
   {
    "duration": 12,
    "start_time": "2024-01-24T09:53:53.502Z"
   },
   {
    "duration": 9,
    "start_time": "2024-01-24T09:53:53.516Z"
   },
   {
    "duration": 10,
    "start_time": "2024-01-24T09:53:53.526Z"
   },
   {
    "duration": 27,
    "start_time": "2024-01-24T09:53:53.538Z"
   },
   {
    "duration": 9,
    "start_time": "2024-01-24T09:53:53.567Z"
   },
   {
    "duration": 6,
    "start_time": "2024-01-24T09:53:53.578Z"
   },
   {
    "duration": 1147,
    "start_time": "2024-01-24T09:53:53.586Z"
   },
   {
    "duration": 1081,
    "start_time": "2024-01-24T09:53:54.735Z"
   },
   {
    "duration": 27,
    "start_time": "2024-01-24T09:53:55.818Z"
   },
   {
    "duration": 30,
    "start_time": "2024-01-24T09:53:55.847Z"
   },
   {
    "duration": 47,
    "start_time": "2024-01-24T09:53:55.879Z"
   },
   {
    "duration": 9,
    "start_time": "2024-01-24T09:53:55.927Z"
   },
   {
    "duration": 25,
    "start_time": "2024-01-24T09:53:55.938Z"
   },
   {
    "duration": 12,
    "start_time": "2024-01-24T09:53:55.965Z"
   },
   {
    "duration": 5,
    "start_time": "2024-01-24T09:53:55.979Z"
   },
   {
    "duration": 14,
    "start_time": "2024-01-24T09:53:55.986Z"
   },
   {
    "duration": 20,
    "start_time": "2024-01-24T09:53:56.001Z"
   },
   {
    "duration": 848,
    "start_time": "2024-01-24T09:53:56.023Z"
   },
   {
    "duration": 8,
    "start_time": "2024-01-24T09:53:56.872Z"
   },
   {
    "duration": 22,
    "start_time": "2024-01-24T09:53:56.882Z"
   },
   {
    "duration": 24,
    "start_time": "2024-01-24T09:53:56.906Z"
   },
   {
    "duration": 23,
    "start_time": "2024-01-24T09:53:56.932Z"
   },
   {
    "duration": 23,
    "start_time": "2024-01-24T09:53:56.957Z"
   },
   {
    "duration": 33,
    "start_time": "2024-01-24T09:53:56.981Z"
   },
   {
    "duration": 34,
    "start_time": "2024-01-24T09:53:57.015Z"
   },
   {
    "duration": 21,
    "start_time": "2024-01-24T09:53:57.050Z"
   },
   {
    "duration": 35,
    "start_time": "2024-01-24T09:53:57.073Z"
   },
   {
    "duration": 17,
    "start_time": "2024-01-24T09:53:57.109Z"
   },
   {
    "duration": 28,
    "start_time": "2024-01-24T09:53:57.128Z"
   },
   {
    "duration": 43,
    "start_time": "2024-01-24T09:53:57.158Z"
   },
   {
    "duration": 27,
    "start_time": "2024-01-24T09:53:57.203Z"
   },
   {
    "duration": 1656,
    "start_time": "2024-01-24T09:53:57.232Z"
   },
   {
    "duration": 1898,
    "start_time": "2024-01-24T09:53:58.890Z"
   },
   {
    "duration": 321,
    "start_time": "2024-01-24T09:54:00.790Z"
   },
   {
    "duration": 5,
    "start_time": "2024-01-24T09:54:01.113Z"
   },
   {
    "duration": 1146,
    "start_time": "2024-01-24T12:02:13.005Z"
   },
   {
    "duration": 279,
    "start_time": "2024-01-24T12:02:14.153Z"
   },
   {
    "duration": 13,
    "start_time": "2024-01-24T12:02:14.434Z"
   },
   {
    "duration": 8,
    "start_time": "2024-01-24T12:02:14.450Z"
   },
   {
    "duration": 16,
    "start_time": "2024-01-24T12:02:14.459Z"
   },
   {
    "duration": 27,
    "start_time": "2024-01-24T12:02:14.476Z"
   },
   {
    "duration": 23,
    "start_time": "2024-01-24T12:02:14.504Z"
   },
   {
    "duration": 20,
    "start_time": "2024-01-24T12:02:14.528Z"
   },
   {
    "duration": 6,
    "start_time": "2024-01-24T12:02:14.549Z"
   },
   {
    "duration": 20,
    "start_time": "2024-01-24T12:02:14.558Z"
   },
   {
    "duration": 4,
    "start_time": "2024-01-24T12:02:14.580Z"
   },
   {
    "duration": 9,
    "start_time": "2024-01-24T12:02:14.585Z"
   },
   {
    "duration": 16,
    "start_time": "2024-01-24T12:02:14.595Z"
   },
   {
    "duration": 8,
    "start_time": "2024-01-24T12:02:14.613Z"
   },
   {
    "duration": 5,
    "start_time": "2024-01-24T12:02:14.623Z"
   },
   {
    "duration": 232,
    "start_time": "2024-01-24T12:02:14.629Z"
   },
   {
    "duration": 10,
    "start_time": "2024-01-24T12:02:14.862Z"
   },
   {
    "duration": 136,
    "start_time": "2024-01-24T12:02:14.873Z"
   },
   {
    "duration": 10,
    "start_time": "2024-01-24T12:02:15.011Z"
   },
   {
    "duration": 407,
    "start_time": "2024-01-24T12:02:15.023Z"
   },
   {
    "duration": 15,
    "start_time": "2024-01-24T12:02:15.431Z"
   },
   {
    "duration": 302,
    "start_time": "2024-01-24T12:02:15.448Z"
   },
   {
    "duration": 13,
    "start_time": "2024-01-24T12:02:15.752Z"
   },
   {
    "duration": 309,
    "start_time": "2024-01-24T12:02:15.767Z"
   },
   {
    "duration": 14,
    "start_time": "2024-01-24T12:02:16.078Z"
   },
   {
    "duration": 341,
    "start_time": "2024-01-24T12:02:16.094Z"
   },
   {
    "duration": 911,
    "start_time": "2024-01-24T12:02:16.436Z"
   },
   {
    "duration": 10,
    "start_time": "2024-01-24T12:02:17.351Z"
   },
   {
    "duration": 9,
    "start_time": "2024-01-24T12:02:17.363Z"
   },
   {
    "duration": 15,
    "start_time": "2024-01-24T12:02:17.373Z"
   },
   {
    "duration": 13,
    "start_time": "2024-01-24T12:02:17.389Z"
   },
   {
    "duration": 4,
    "start_time": "2024-01-24T12:02:17.403Z"
   },
   {
    "duration": 5,
    "start_time": "2024-01-24T12:02:17.408Z"
   },
   {
    "duration": 15,
    "start_time": "2024-01-24T12:02:17.414Z"
   },
   {
    "duration": 4,
    "start_time": "2024-01-24T12:02:17.431Z"
   },
   {
    "duration": 13,
    "start_time": "2024-01-24T12:02:17.437Z"
   },
   {
    "duration": 6,
    "start_time": "2024-01-24T12:02:17.452Z"
   },
   {
    "duration": 6,
    "start_time": "2024-01-24T12:02:17.460Z"
   },
   {
    "duration": 1041,
    "start_time": "2024-01-24T12:02:17.468Z"
   },
   {
    "duration": 1009,
    "start_time": "2024-01-24T12:02:18.511Z"
   },
   {
    "duration": 18,
    "start_time": "2024-01-24T12:02:19.521Z"
   },
   {
    "duration": 11,
    "start_time": "2024-01-24T12:02:19.541Z"
   },
   {
    "duration": 6,
    "start_time": "2024-01-24T12:02:19.554Z"
   },
   {
    "duration": 3,
    "start_time": "2024-01-24T12:02:19.562Z"
   },
   {
    "duration": 102,
    "start_time": "2024-01-24T12:02:19.587Z"
   },
   {
    "duration": 8,
    "start_time": "2024-01-24T12:02:19.691Z"
   },
   {
    "duration": 14,
    "start_time": "2024-01-24T12:02:19.701Z"
   },
   {
    "duration": 5,
    "start_time": "2024-01-24T12:02:19.716Z"
   },
   {
    "duration": 11,
    "start_time": "2024-01-24T12:02:19.722Z"
   },
   {
    "duration": 840,
    "start_time": "2024-01-24T12:02:19.734Z"
   },
   {
    "duration": 17,
    "start_time": "2024-01-24T12:02:20.576Z"
   },
   {
    "duration": 24,
    "start_time": "2024-01-24T12:02:20.595Z"
   },
   {
    "duration": 19,
    "start_time": "2024-01-24T12:02:20.621Z"
   },
   {
    "duration": 13,
    "start_time": "2024-01-24T12:02:20.642Z"
   },
   {
    "duration": 13,
    "start_time": "2024-01-24T12:02:20.657Z"
   },
   {
    "duration": 17,
    "start_time": "2024-01-24T12:02:20.671Z"
   },
   {
    "duration": 35,
    "start_time": "2024-01-24T12:02:20.690Z"
   },
   {
    "duration": 16,
    "start_time": "2024-01-24T12:02:20.726Z"
   },
   {
    "duration": 43,
    "start_time": "2024-01-24T12:02:20.743Z"
   },
   {
    "duration": 25,
    "start_time": "2024-01-24T12:02:20.788Z"
   },
   {
    "duration": 11,
    "start_time": "2024-01-24T12:02:20.815Z"
   },
   {
    "duration": 7,
    "start_time": "2024-01-24T12:02:20.827Z"
   },
   {
    "duration": 22,
    "start_time": "2024-01-24T12:02:20.835Z"
   },
   {
    "duration": 1570,
    "start_time": "2024-01-24T12:02:20.859Z"
   },
   {
    "duration": 1850,
    "start_time": "2024-01-24T12:02:22.431Z"
   },
   {
    "duration": 325,
    "start_time": "2024-01-24T12:02:24.287Z"
   },
   {
    "duration": 6,
    "start_time": "2024-01-24T12:02:24.614Z"
   }
  ],
  "kernelspec": {
   "display_name": "Python 3 (ipykernel)",
   "language": "python",
   "name": "python3"
  },
  "language_info": {
   "codemirror_mode": {
    "name": "ipython",
    "version": 3
   },
   "file_extension": ".py",
   "mimetype": "text/x-python",
   "name": "python",
   "nbconvert_exporter": "python",
   "pygments_lexer": "ipython3",
   "version": "3.11.5"
  },
  "toc": {
   "base_numbering": 1,
   "nav_menu": {},
   "number_sections": true,
   "sideBar": true,
   "skip_h1_title": true,
   "title_cell": "Table of Contents",
   "title_sidebar": "Contents",
   "toc_cell": false,
   "toc_position": {},
   "toc_section_display": true,
   "toc_window_display": false
  }
 },
 "nbformat": 4,
 "nbformat_minor": 5
}
